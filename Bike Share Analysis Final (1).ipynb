{
 "cells": [
  {
   "cell_type": "code",
   "execution_count": 2,
   "id": "bc86620e",
   "metadata": {},
   "outputs": [],
   "source": [
    "#Importing Modules\n",
    "import pandas as pd\n",
    "import numpy as np\n",
    "import seaborn as sns\n",
    "import matplotlib.pyplot as plt"
   ]
  },
  {
   "cell_type": "code",
   "execution_count": 3,
   "id": "7740f590",
   "metadata": {},
   "outputs": [
    {
     "name": "stdout",
     "output_type": "stream",
     "text": [
      "C:\\Users\\SRIMON\\Documents\\Python Directory\n"
     ]
    }
   ],
   "source": [
    " cd C:/Users/SRIMON/Documents/Python Directory"
   ]
  },
  {
   "cell_type": "code",
   "execution_count": 4,
   "id": "75fa8367",
   "metadata": {},
   "outputs": [],
   "source": [
    "df_1 = pd.read_csv(\"202101-divvy-tripdata.csv\")"
   ]
  },
  {
   "cell_type": "code",
   "execution_count": 5,
   "id": "0cbc48c5",
   "metadata": {},
   "outputs": [],
   "source": [
    "df_2 = pd.read_csv(\"202102-divvy-tripdata.csv\")"
   ]
  },
  {
   "cell_type": "code",
   "execution_count": 6,
   "id": "dfcd6a86",
   "metadata": {},
   "outputs": [],
   "source": [
    "df_3 = pd.read_csv(\"202103-divvy-tripdata.csv\")"
   ]
  },
  {
   "cell_type": "code",
   "execution_count": 7,
   "id": "d318a5f7",
   "metadata": {},
   "outputs": [],
   "source": [
    "df_4 = pd.read_csv(\"202104-divvy-tripdata.csv\")"
   ]
  },
  {
   "cell_type": "code",
   "execution_count": 8,
   "id": "e56c1b92",
   "metadata": {},
   "outputs": [],
   "source": [
    "df_5 = pd.read_csv(\"202105-divvy-tripdata.csv\")"
   ]
  },
  {
   "cell_type": "code",
   "execution_count": 9,
   "id": "bd991e77",
   "metadata": {},
   "outputs": [],
   "source": [
    "df_6 = pd.read_csv(\"202106-divvy-tripdata.csv\")"
   ]
  },
  {
   "cell_type": "code",
   "execution_count": 10,
   "id": "01df0641",
   "metadata": {},
   "outputs": [],
   "source": [
    "df_7 = pd.read_csv(\"202107-divvy-tripdata.csv\")"
   ]
  },
  {
   "cell_type": "code",
   "execution_count": 11,
   "id": "0d21b7ad",
   "metadata": {},
   "outputs": [],
   "source": [
    "df_8 = pd.read_csv(\"202108-divvy-tripdata.csv\")"
   ]
  },
  {
   "cell_type": "code",
   "execution_count": 12,
   "id": "45921801",
   "metadata": {},
   "outputs": [],
   "source": [
    "df_9 = pd.read_csv(\"202109-divvy-tripdata.csv\")"
   ]
  },
  {
   "cell_type": "code",
   "execution_count": 13,
   "id": "0e44bc48",
   "metadata": {},
   "outputs": [],
   "source": [
    "df_10 = pd.read_csv(\"202110-divvy-tripdata.csv\")"
   ]
  },
  {
   "cell_type": "code",
   "execution_count": 14,
   "id": "dc053721",
   "metadata": {},
   "outputs": [],
   "source": [
    "df_11 = pd.read_csv(\"202111-divvy-tripdata.csv\")"
   ]
  },
  {
   "cell_type": "code",
   "execution_count": 15,
   "id": "6a26c4b0",
   "metadata": {},
   "outputs": [],
   "source": [
    "df_12 = pd.read_csv(\"202112-divvy-tripdata.csv\")"
   ]
  },
  {
   "cell_type": "code",
   "execution_count": 16,
   "id": "33e712b1",
   "metadata": {},
   "outputs": [],
   "source": [
    "#concatinating the data frames into a single one for analysis\n",
    "Trip_data_2021 = pd.concat([df_1,df_2,df_3,df_4,df_5,df_6,df_7,df_8,df_9,df_10,df_11,df_12], ignore_index=True)"
   ]
  },
  {
   "cell_type": "code",
   "execution_count": 17,
   "id": "4998fd07",
   "metadata": {},
   "outputs": [
    {
     "data": {
      "text/html": [
       "<div>\n",
       "<style scoped>\n",
       "    .dataframe tbody tr th:only-of-type {\n",
       "        vertical-align: middle;\n",
       "    }\n",
       "\n",
       "    .dataframe tbody tr th {\n",
       "        vertical-align: top;\n",
       "    }\n",
       "\n",
       "    .dataframe thead th {\n",
       "        text-align: right;\n",
       "    }\n",
       "</style>\n",
       "<table border=\"1\" class=\"dataframe\">\n",
       "  <thead>\n",
       "    <tr style=\"text-align: right;\">\n",
       "      <th></th>\n",
       "      <th>ride_id</th>\n",
       "      <th>rideable_type</th>\n",
       "      <th>started_at</th>\n",
       "      <th>ended_at</th>\n",
       "      <th>start_station_name</th>\n",
       "      <th>start_station_id</th>\n",
       "      <th>end_station_name</th>\n",
       "      <th>end_station_id</th>\n",
       "      <th>start_lat</th>\n",
       "      <th>start_lng</th>\n",
       "      <th>end_lat</th>\n",
       "      <th>end_lng</th>\n",
       "      <th>member_casual</th>\n",
       "    </tr>\n",
       "  </thead>\n",
       "  <tbody>\n",
       "    <tr>\n",
       "      <th>0</th>\n",
       "      <td>E19E6F1B8D4C42ED</td>\n",
       "      <td>electric_bike</td>\n",
       "      <td>2021-01-23 16:14:19</td>\n",
       "      <td>2021-01-23 16:24:44</td>\n",
       "      <td>California Ave &amp; Cortez St</td>\n",
       "      <td>17660</td>\n",
       "      <td>NaN</td>\n",
       "      <td>NaN</td>\n",
       "      <td>41.900341</td>\n",
       "      <td>-87.696743</td>\n",
       "      <td>41.89</td>\n",
       "      <td>-87.72</td>\n",
       "      <td>member</td>\n",
       "    </tr>\n",
       "    <tr>\n",
       "      <th>1</th>\n",
       "      <td>DC88F20C2C55F27F</td>\n",
       "      <td>electric_bike</td>\n",
       "      <td>2021-01-27 18:43:08</td>\n",
       "      <td>2021-01-27 18:47:12</td>\n",
       "      <td>California Ave &amp; Cortez St</td>\n",
       "      <td>17660</td>\n",
       "      <td>NaN</td>\n",
       "      <td>NaN</td>\n",
       "      <td>41.900333</td>\n",
       "      <td>-87.696707</td>\n",
       "      <td>41.90</td>\n",
       "      <td>-87.69</td>\n",
       "      <td>member</td>\n",
       "    </tr>\n",
       "    <tr>\n",
       "      <th>2</th>\n",
       "      <td>EC45C94683FE3F27</td>\n",
       "      <td>electric_bike</td>\n",
       "      <td>2021-01-21 22:35:54</td>\n",
       "      <td>2021-01-21 22:37:14</td>\n",
       "      <td>California Ave &amp; Cortez St</td>\n",
       "      <td>17660</td>\n",
       "      <td>NaN</td>\n",
       "      <td>NaN</td>\n",
       "      <td>41.900313</td>\n",
       "      <td>-87.696643</td>\n",
       "      <td>41.90</td>\n",
       "      <td>-87.70</td>\n",
       "      <td>member</td>\n",
       "    </tr>\n",
       "    <tr>\n",
       "      <th>3</th>\n",
       "      <td>4FA453A75AE377DB</td>\n",
       "      <td>electric_bike</td>\n",
       "      <td>2021-01-07 13:31:13</td>\n",
       "      <td>2021-01-07 13:42:55</td>\n",
       "      <td>California Ave &amp; Cortez St</td>\n",
       "      <td>17660</td>\n",
       "      <td>NaN</td>\n",
       "      <td>NaN</td>\n",
       "      <td>41.900399</td>\n",
       "      <td>-87.696662</td>\n",
       "      <td>41.92</td>\n",
       "      <td>-87.69</td>\n",
       "      <td>member</td>\n",
       "    </tr>\n",
       "    <tr>\n",
       "      <th>4</th>\n",
       "      <td>BE5E8EB4E7263A0B</td>\n",
       "      <td>electric_bike</td>\n",
       "      <td>2021-01-23 02:24:02</td>\n",
       "      <td>2021-01-23 02:24:45</td>\n",
       "      <td>California Ave &amp; Cortez St</td>\n",
       "      <td>17660</td>\n",
       "      <td>NaN</td>\n",
       "      <td>NaN</td>\n",
       "      <td>41.900326</td>\n",
       "      <td>-87.696697</td>\n",
       "      <td>41.90</td>\n",
       "      <td>-87.70</td>\n",
       "      <td>casual</td>\n",
       "    </tr>\n",
       "  </tbody>\n",
       "</table>\n",
       "</div>"
      ],
      "text/plain": [
       "            ride_id  rideable_type           started_at             ended_at  \\\n",
       "0  E19E6F1B8D4C42ED  electric_bike  2021-01-23 16:14:19  2021-01-23 16:24:44   \n",
       "1  DC88F20C2C55F27F  electric_bike  2021-01-27 18:43:08  2021-01-27 18:47:12   \n",
       "2  EC45C94683FE3F27  electric_bike  2021-01-21 22:35:54  2021-01-21 22:37:14   \n",
       "3  4FA453A75AE377DB  electric_bike  2021-01-07 13:31:13  2021-01-07 13:42:55   \n",
       "4  BE5E8EB4E7263A0B  electric_bike  2021-01-23 02:24:02  2021-01-23 02:24:45   \n",
       "\n",
       "           start_station_name start_station_id end_station_name  \\\n",
       "0  California Ave & Cortez St            17660              NaN   \n",
       "1  California Ave & Cortez St            17660              NaN   \n",
       "2  California Ave & Cortez St            17660              NaN   \n",
       "3  California Ave & Cortez St            17660              NaN   \n",
       "4  California Ave & Cortez St            17660              NaN   \n",
       "\n",
       "  end_station_id  start_lat  start_lng  end_lat  end_lng member_casual  \n",
       "0            NaN  41.900341 -87.696743    41.89   -87.72        member  \n",
       "1            NaN  41.900333 -87.696707    41.90   -87.69        member  \n",
       "2            NaN  41.900313 -87.696643    41.90   -87.70        member  \n",
       "3            NaN  41.900399 -87.696662    41.92   -87.69        member  \n",
       "4            NaN  41.900326 -87.696697    41.90   -87.70        casual  "
      ]
     },
     "execution_count": 17,
     "metadata": {},
     "output_type": "execute_result"
    }
   ],
   "source": [
    "Trip_data_2021.head()"
   ]
  },
  {
   "cell_type": "code",
   "execution_count": 18,
   "id": "a55536b9",
   "metadata": {},
   "outputs": [
    {
     "data": {
      "text/plain": [
       "ride_id                    0\n",
       "rideable_type              0\n",
       "started_at                 0\n",
       "ended_at                   0\n",
       "start_station_name    690809\n",
       "start_station_id      690806\n",
       "end_station_name      739170\n",
       "end_station_id        739170\n",
       "start_lat                  0\n",
       "start_lng                  0\n",
       "end_lat                 4771\n",
       "end_lng                 4771\n",
       "member_casual              0\n",
       "dtype: int64"
      ]
     },
     "execution_count": 18,
     "metadata": {},
     "output_type": "execute_result"
    }
   ],
   "source": [
    "#checking for the total null values in a specific column\n",
    "Trip_data_2021.isnull().sum()"
   ]
  },
  {
   "cell_type": "code",
   "execution_count": 19,
   "id": "6dcc0eff",
   "metadata": {},
   "outputs": [
    {
     "name": "stdout",
     "output_type": "stream",
     "text": [
      "<class 'pandas.core.frame.DataFrame'>\n",
      "RangeIndex: 5595063 entries, 0 to 5595062\n",
      "Data columns (total 13 columns):\n",
      " #   Column              Dtype  \n",
      "---  ------              -----  \n",
      " 0   ride_id             object \n",
      " 1   rideable_type       object \n",
      " 2   started_at          object \n",
      " 3   ended_at            object \n",
      " 4   start_station_name  object \n",
      " 5   start_station_id    object \n",
      " 6   end_station_name    object \n",
      " 7   end_station_id      object \n",
      " 8   start_lat           float64\n",
      " 9   start_lng           float64\n",
      " 10  end_lat             float64\n",
      " 11  end_lng             float64\n",
      " 12  member_casual       object \n",
      "dtypes: float64(4), object(9)\n",
      "memory usage: 554.9+ MB\n"
     ]
    }
   ],
   "source": [
    "Trip_data_2021.info()"
   ]
  },
  {
   "cell_type": "code",
   "execution_count": 20,
   "id": "cd44f5a4",
   "metadata": {},
   "outputs": [],
   "source": [
    "Total_Columns = 5595063\n",
    "# missing Column rows\n",
    "start_station_name = 690809\n",
    "start_station_id = 690809\n",
    "end_station_name = 739170\n",
    "end_station_id = 739170\n",
    "end_lat = 4771\n",
    "end_lng = 4771\n"
   ]
  },
  {
   "cell_type": "code",
   "execution_count": 21,
   "id": "7e2adbc6",
   "metadata": {},
   "outputs": [
    {
     "name": "stdout",
     "output_type": "stream",
     "text": [
      "The percentage of missing values in start station name is:   12.346759991799914\n",
      "The percentage of missing values in start station id is:   12.346759991799914\n",
      "The percentage of missing values in end station name is:   13.211111295797743\n",
      "The percentage of missing values in end station id is:   13.211111295797743\n",
      "The percentage of missing values in end_lat-is:   0.08527160462715076\n",
      "The percentage of missing values in end_lng is:   0.08527160462715076\n"
     ]
    }
   ],
   "source": [
    "#Percentage  of missing values \n",
    "Start_station_name_Missingvalues = start_station_name/Total_Columns * 100\n",
    "start_station_id_Missingvalues = start_station_id/Total_Columns * 100\n",
    "end_station_name_Missingvalues = end_station_name/Total_Columns * 100\n",
    "end_station_id_Missingvalues = end_station_id/Total_Columns * 100\n",
    "end_lat_Missingvalues = end_lat/Total_Columns * 100\n",
    "end_lng_Missingvalues = end_lng/Total_Columns * 100\n",
    "print('The percentage of missing values in start station name is:  ' , Start_station_name_Missingvalues)\n",
    "print('The percentage of missing values in start station id is:  ', start_station_id_Missingvalues)\n",
    "print('The percentage of missing values in end station name is:  ',end_station_name_Missingvalues)\n",
    "print('The percentage of missing values in end station id is:  ', end_station_id_Missingvalues)\n",
    "print('The percentage of missing values in end_lat-is:  ', end_lat_Missingvalues)\n",
    "print('The percentage of missing values in end_lng is:  ', end_lng_Missingvalues)\n",
    "\n",
    "\n",
    "\n",
    "\n"
   ]
  },
  {
   "cell_type": "code",
   "execution_count": 22,
   "id": "fc2a3777",
   "metadata": {},
   "outputs": [],
   "source": [
    "#dropping unnecessary columns\n",
    "Trip_data_2021 = Trip_data_2021.drop(columns=['start_lat','start_lng','end_lat','end_lng',])"
   ]
  },
  {
   "cell_type": "code",
   "execution_count": 23,
   "id": "22e8d84f",
   "metadata": {},
   "outputs": [
    {
     "data": {
      "text/html": [
       "<div>\n",
       "<style scoped>\n",
       "    .dataframe tbody tr th:only-of-type {\n",
       "        vertical-align: middle;\n",
       "    }\n",
       "\n",
       "    .dataframe tbody tr th {\n",
       "        vertical-align: top;\n",
       "    }\n",
       "\n",
       "    .dataframe thead th {\n",
       "        text-align: right;\n",
       "    }\n",
       "</style>\n",
       "<table border=\"1\" class=\"dataframe\">\n",
       "  <thead>\n",
       "    <tr style=\"text-align: right;\">\n",
       "      <th></th>\n",
       "      <th>ride_id</th>\n",
       "      <th>rideable_type</th>\n",
       "      <th>started_at</th>\n",
       "      <th>ended_at</th>\n",
       "      <th>start_station_name</th>\n",
       "      <th>start_station_id</th>\n",
       "      <th>end_station_name</th>\n",
       "      <th>end_station_id</th>\n",
       "      <th>member_casual</th>\n",
       "    </tr>\n",
       "  </thead>\n",
       "  <tbody>\n",
       "    <tr>\n",
       "      <th>0</th>\n",
       "      <td>E19E6F1B8D4C42ED</td>\n",
       "      <td>electric_bike</td>\n",
       "      <td>2021-01-23 16:14:19</td>\n",
       "      <td>2021-01-23 16:24:44</td>\n",
       "      <td>California Ave &amp; Cortez St</td>\n",
       "      <td>17660</td>\n",
       "      <td>NaN</td>\n",
       "      <td>NaN</td>\n",
       "      <td>member</td>\n",
       "    </tr>\n",
       "    <tr>\n",
       "      <th>1</th>\n",
       "      <td>DC88F20C2C55F27F</td>\n",
       "      <td>electric_bike</td>\n",
       "      <td>2021-01-27 18:43:08</td>\n",
       "      <td>2021-01-27 18:47:12</td>\n",
       "      <td>California Ave &amp; Cortez St</td>\n",
       "      <td>17660</td>\n",
       "      <td>NaN</td>\n",
       "      <td>NaN</td>\n",
       "      <td>member</td>\n",
       "    </tr>\n",
       "    <tr>\n",
       "      <th>2</th>\n",
       "      <td>EC45C94683FE3F27</td>\n",
       "      <td>electric_bike</td>\n",
       "      <td>2021-01-21 22:35:54</td>\n",
       "      <td>2021-01-21 22:37:14</td>\n",
       "      <td>California Ave &amp; Cortez St</td>\n",
       "      <td>17660</td>\n",
       "      <td>NaN</td>\n",
       "      <td>NaN</td>\n",
       "      <td>member</td>\n",
       "    </tr>\n",
       "    <tr>\n",
       "      <th>3</th>\n",
       "      <td>4FA453A75AE377DB</td>\n",
       "      <td>electric_bike</td>\n",
       "      <td>2021-01-07 13:31:13</td>\n",
       "      <td>2021-01-07 13:42:55</td>\n",
       "      <td>California Ave &amp; Cortez St</td>\n",
       "      <td>17660</td>\n",
       "      <td>NaN</td>\n",
       "      <td>NaN</td>\n",
       "      <td>member</td>\n",
       "    </tr>\n",
       "    <tr>\n",
       "      <th>4</th>\n",
       "      <td>BE5E8EB4E7263A0B</td>\n",
       "      <td>electric_bike</td>\n",
       "      <td>2021-01-23 02:24:02</td>\n",
       "      <td>2021-01-23 02:24:45</td>\n",
       "      <td>California Ave &amp; Cortez St</td>\n",
       "      <td>17660</td>\n",
       "      <td>NaN</td>\n",
       "      <td>NaN</td>\n",
       "      <td>casual</td>\n",
       "    </tr>\n",
       "  </tbody>\n",
       "</table>\n",
       "</div>"
      ],
      "text/plain": [
       "            ride_id  rideable_type           started_at             ended_at  \\\n",
       "0  E19E6F1B8D4C42ED  electric_bike  2021-01-23 16:14:19  2021-01-23 16:24:44   \n",
       "1  DC88F20C2C55F27F  electric_bike  2021-01-27 18:43:08  2021-01-27 18:47:12   \n",
       "2  EC45C94683FE3F27  electric_bike  2021-01-21 22:35:54  2021-01-21 22:37:14   \n",
       "3  4FA453A75AE377DB  electric_bike  2021-01-07 13:31:13  2021-01-07 13:42:55   \n",
       "4  BE5E8EB4E7263A0B  electric_bike  2021-01-23 02:24:02  2021-01-23 02:24:45   \n",
       "\n",
       "           start_station_name start_station_id end_station_name  \\\n",
       "0  California Ave & Cortez St            17660              NaN   \n",
       "1  California Ave & Cortez St            17660              NaN   \n",
       "2  California Ave & Cortez St            17660              NaN   \n",
       "3  California Ave & Cortez St            17660              NaN   \n",
       "4  California Ave & Cortez St            17660              NaN   \n",
       "\n",
       "  end_station_id member_casual  \n",
       "0            NaN        member  \n",
       "1            NaN        member  \n",
       "2            NaN        member  \n",
       "3            NaN        member  \n",
       "4            NaN        casual  "
      ]
     },
     "execution_count": 23,
     "metadata": {},
     "output_type": "execute_result"
    }
   ],
   "source": [
    "Trip_data_2021.head()"
   ]
  },
  {
   "cell_type": "code",
   "execution_count": 24,
   "id": "8e83fd05",
   "metadata": {},
   "outputs": [],
   "source": [
    "#changing columns names to readable format\n",
    "Trip_data_2021 = Trip_data_2021.rename(columns={'rideable_type':'ride_type','started_at':'start_time','ended_at':'end_time','member_casual':'customer_type' })"
   ]
  },
  {
   "cell_type": "code",
   "execution_count": 25,
   "id": "c77ff3cd",
   "metadata": {},
   "outputs": [],
   "source": [
    "#converting Start _time & end_time to datetime 64 type from object type \n",
    "Trip_data_2021['start_time'] = pd.to_datetime(Trip_data_2021.start_time)\n",
    "Trip_data_2021['end_time'] = pd.to_datetime(Trip_data_2021.end_time)"
   ]
  },
  {
   "cell_type": "code",
   "execution_count": 26,
   "id": "5a7c1990",
   "metadata": {},
   "outputs": [],
   "source": [
    "#finding trip_duration_mins to find the trip duration\n",
    "Trip_data_2021['trip_duration'] = Trip_data_2021['end_time'] - Trip_data_2021['start_time']\n"
   ]
  },
  {
   "cell_type": "code",
   "execution_count": 27,
   "id": "dc3a4503",
   "metadata": {},
   "outputs": [
    {
     "data": {
      "text/html": [
       "<div>\n",
       "<style scoped>\n",
       "    .dataframe tbody tr th:only-of-type {\n",
       "        vertical-align: middle;\n",
       "    }\n",
       "\n",
       "    .dataframe tbody tr th {\n",
       "        vertical-align: top;\n",
       "    }\n",
       "\n",
       "    .dataframe thead th {\n",
       "        text-align: right;\n",
       "    }\n",
       "</style>\n",
       "<table border=\"1\" class=\"dataframe\">\n",
       "  <thead>\n",
       "    <tr style=\"text-align: right;\">\n",
       "      <th></th>\n",
       "      <th>ride_id</th>\n",
       "      <th>ride_type</th>\n",
       "      <th>start_time</th>\n",
       "      <th>end_time</th>\n",
       "      <th>start_station_name</th>\n",
       "      <th>start_station_id</th>\n",
       "      <th>end_station_name</th>\n",
       "      <th>end_station_id</th>\n",
       "      <th>customer_type</th>\n",
       "      <th>trip_duration</th>\n",
       "    </tr>\n",
       "  </thead>\n",
       "  <tbody>\n",
       "    <tr>\n",
       "      <th>0</th>\n",
       "      <td>E19E6F1B8D4C42ED</td>\n",
       "      <td>electric_bike</td>\n",
       "      <td>2021-01-23 16:14:19</td>\n",
       "      <td>2021-01-23 16:24:44</td>\n",
       "      <td>California Ave &amp; Cortez St</td>\n",
       "      <td>17660</td>\n",
       "      <td>NaN</td>\n",
       "      <td>NaN</td>\n",
       "      <td>member</td>\n",
       "      <td>0 days 00:10:25</td>\n",
       "    </tr>\n",
       "    <tr>\n",
       "      <th>1</th>\n",
       "      <td>DC88F20C2C55F27F</td>\n",
       "      <td>electric_bike</td>\n",
       "      <td>2021-01-27 18:43:08</td>\n",
       "      <td>2021-01-27 18:47:12</td>\n",
       "      <td>California Ave &amp; Cortez St</td>\n",
       "      <td>17660</td>\n",
       "      <td>NaN</td>\n",
       "      <td>NaN</td>\n",
       "      <td>member</td>\n",
       "      <td>0 days 00:04:04</td>\n",
       "    </tr>\n",
       "    <tr>\n",
       "      <th>2</th>\n",
       "      <td>EC45C94683FE3F27</td>\n",
       "      <td>electric_bike</td>\n",
       "      <td>2021-01-21 22:35:54</td>\n",
       "      <td>2021-01-21 22:37:14</td>\n",
       "      <td>California Ave &amp; Cortez St</td>\n",
       "      <td>17660</td>\n",
       "      <td>NaN</td>\n",
       "      <td>NaN</td>\n",
       "      <td>member</td>\n",
       "      <td>0 days 00:01:20</td>\n",
       "    </tr>\n",
       "    <tr>\n",
       "      <th>3</th>\n",
       "      <td>4FA453A75AE377DB</td>\n",
       "      <td>electric_bike</td>\n",
       "      <td>2021-01-07 13:31:13</td>\n",
       "      <td>2021-01-07 13:42:55</td>\n",
       "      <td>California Ave &amp; Cortez St</td>\n",
       "      <td>17660</td>\n",
       "      <td>NaN</td>\n",
       "      <td>NaN</td>\n",
       "      <td>member</td>\n",
       "      <td>0 days 00:11:42</td>\n",
       "    </tr>\n",
       "    <tr>\n",
       "      <th>4</th>\n",
       "      <td>BE5E8EB4E7263A0B</td>\n",
       "      <td>electric_bike</td>\n",
       "      <td>2021-01-23 02:24:02</td>\n",
       "      <td>2021-01-23 02:24:45</td>\n",
       "      <td>California Ave &amp; Cortez St</td>\n",
       "      <td>17660</td>\n",
       "      <td>NaN</td>\n",
       "      <td>NaN</td>\n",
       "      <td>casual</td>\n",
       "      <td>0 days 00:00:43</td>\n",
       "    </tr>\n",
       "  </tbody>\n",
       "</table>\n",
       "</div>"
      ],
      "text/plain": [
       "            ride_id      ride_type          start_time            end_time  \\\n",
       "0  E19E6F1B8D4C42ED  electric_bike 2021-01-23 16:14:19 2021-01-23 16:24:44   \n",
       "1  DC88F20C2C55F27F  electric_bike 2021-01-27 18:43:08 2021-01-27 18:47:12   \n",
       "2  EC45C94683FE3F27  electric_bike 2021-01-21 22:35:54 2021-01-21 22:37:14   \n",
       "3  4FA453A75AE377DB  electric_bike 2021-01-07 13:31:13 2021-01-07 13:42:55   \n",
       "4  BE5E8EB4E7263A0B  electric_bike 2021-01-23 02:24:02 2021-01-23 02:24:45   \n",
       "\n",
       "           start_station_name start_station_id end_station_name  \\\n",
       "0  California Ave & Cortez St            17660              NaN   \n",
       "1  California Ave & Cortez St            17660              NaN   \n",
       "2  California Ave & Cortez St            17660              NaN   \n",
       "3  California Ave & Cortez St            17660              NaN   \n",
       "4  California Ave & Cortez St            17660              NaN   \n",
       "\n",
       "  end_station_id customer_type   trip_duration  \n",
       "0            NaN        member 0 days 00:10:25  \n",
       "1            NaN        member 0 days 00:04:04  \n",
       "2            NaN        member 0 days 00:01:20  \n",
       "3            NaN        member 0 days 00:11:42  \n",
       "4            NaN        casual 0 days 00:00:43  "
      ]
     },
     "execution_count": 27,
     "metadata": {},
     "output_type": "execute_result"
    }
   ],
   "source": [
    "Trip_data_2021.head()"
   ]
  },
  {
   "cell_type": "code",
   "execution_count": 28,
   "id": "0a4ed211",
   "metadata": {},
   "outputs": [],
   "source": [
    "#extracting minutes from trip duration\n",
    "Trip_data_2021['trip_duration'] = Trip_data_2021['trip_duration'].dt.components['minutes']"
   ]
  },
  {
   "cell_type": "code",
   "execution_count": 29,
   "id": "d6356ecd",
   "metadata": {},
   "outputs": [],
   "source": [
    "#Extracting the dates from col: start_time\n",
    "Trip_data_2021['date'] = Trip_data_2021['start_time'].dt.date"
   ]
  },
  {
   "cell_type": "code",
   "execution_count": 30,
   "id": "33366f7d",
   "metadata": {},
   "outputs": [],
   "source": [
    "#extracting time from start time to determine for day and time analysis in trip duration\n",
    "Trip_data_2021['time'] = Trip_data_2021['start_time'].dt.time"
   ]
  },
  {
   "cell_type": "code",
   "execution_count": 31,
   "id": "446eb5ce",
   "metadata": {},
   "outputs": [],
   "source": [
    "# converting date to weekdays in days_of_week for analysis on weekdays and weekends\n",
    "Trip_data_2021['date'] = pd.to_datetime(Trip_data_2021['date'])\n",
    "Trip_data_2021['day_of_week'] = Trip_data_2021['date'].dt.day_name()"
   ]
  },
  {
   "cell_type": "code",
   "execution_count": 32,
   "id": "d75550c3",
   "metadata": {},
   "outputs": [
    {
     "data": {
      "text/html": [
       "<div>\n",
       "<style scoped>\n",
       "    .dataframe tbody tr th:only-of-type {\n",
       "        vertical-align: middle;\n",
       "    }\n",
       "\n",
       "    .dataframe tbody tr th {\n",
       "        vertical-align: top;\n",
       "    }\n",
       "\n",
       "    .dataframe thead th {\n",
       "        text-align: right;\n",
       "    }\n",
       "</style>\n",
       "<table border=\"1\" class=\"dataframe\">\n",
       "  <thead>\n",
       "    <tr style=\"text-align: right;\">\n",
       "      <th></th>\n",
       "      <th>ride_id</th>\n",
       "      <th>ride_type</th>\n",
       "      <th>start_time</th>\n",
       "      <th>end_time</th>\n",
       "      <th>start_station_name</th>\n",
       "      <th>start_station_id</th>\n",
       "      <th>end_station_name</th>\n",
       "      <th>end_station_id</th>\n",
       "      <th>customer_type</th>\n",
       "      <th>trip_duration</th>\n",
       "      <th>date</th>\n",
       "      <th>time</th>\n",
       "      <th>day_of_week</th>\n",
       "    </tr>\n",
       "  </thead>\n",
       "  <tbody>\n",
       "    <tr>\n",
       "      <th>0</th>\n",
       "      <td>E19E6F1B8D4C42ED</td>\n",
       "      <td>electric_bike</td>\n",
       "      <td>2021-01-23 16:14:19</td>\n",
       "      <td>2021-01-23 16:24:44</td>\n",
       "      <td>California Ave &amp; Cortez St</td>\n",
       "      <td>17660</td>\n",
       "      <td>NaN</td>\n",
       "      <td>NaN</td>\n",
       "      <td>member</td>\n",
       "      <td>10</td>\n",
       "      <td>2021-01-23</td>\n",
       "      <td>16:14:19</td>\n",
       "      <td>Saturday</td>\n",
       "    </tr>\n",
       "    <tr>\n",
       "      <th>1</th>\n",
       "      <td>DC88F20C2C55F27F</td>\n",
       "      <td>electric_bike</td>\n",
       "      <td>2021-01-27 18:43:08</td>\n",
       "      <td>2021-01-27 18:47:12</td>\n",
       "      <td>California Ave &amp; Cortez St</td>\n",
       "      <td>17660</td>\n",
       "      <td>NaN</td>\n",
       "      <td>NaN</td>\n",
       "      <td>member</td>\n",
       "      <td>4</td>\n",
       "      <td>2021-01-27</td>\n",
       "      <td>18:43:08</td>\n",
       "      <td>Wednesday</td>\n",
       "    </tr>\n",
       "    <tr>\n",
       "      <th>2</th>\n",
       "      <td>EC45C94683FE3F27</td>\n",
       "      <td>electric_bike</td>\n",
       "      <td>2021-01-21 22:35:54</td>\n",
       "      <td>2021-01-21 22:37:14</td>\n",
       "      <td>California Ave &amp; Cortez St</td>\n",
       "      <td>17660</td>\n",
       "      <td>NaN</td>\n",
       "      <td>NaN</td>\n",
       "      <td>member</td>\n",
       "      <td>1</td>\n",
       "      <td>2021-01-21</td>\n",
       "      <td>22:35:54</td>\n",
       "      <td>Thursday</td>\n",
       "    </tr>\n",
       "    <tr>\n",
       "      <th>3</th>\n",
       "      <td>4FA453A75AE377DB</td>\n",
       "      <td>electric_bike</td>\n",
       "      <td>2021-01-07 13:31:13</td>\n",
       "      <td>2021-01-07 13:42:55</td>\n",
       "      <td>California Ave &amp; Cortez St</td>\n",
       "      <td>17660</td>\n",
       "      <td>NaN</td>\n",
       "      <td>NaN</td>\n",
       "      <td>member</td>\n",
       "      <td>11</td>\n",
       "      <td>2021-01-07</td>\n",
       "      <td>13:31:13</td>\n",
       "      <td>Thursday</td>\n",
       "    </tr>\n",
       "    <tr>\n",
       "      <th>4</th>\n",
       "      <td>BE5E8EB4E7263A0B</td>\n",
       "      <td>electric_bike</td>\n",
       "      <td>2021-01-23 02:24:02</td>\n",
       "      <td>2021-01-23 02:24:45</td>\n",
       "      <td>California Ave &amp; Cortez St</td>\n",
       "      <td>17660</td>\n",
       "      <td>NaN</td>\n",
       "      <td>NaN</td>\n",
       "      <td>casual</td>\n",
       "      <td>0</td>\n",
       "      <td>2021-01-23</td>\n",
       "      <td>02:24:02</td>\n",
       "      <td>Saturday</td>\n",
       "    </tr>\n",
       "  </tbody>\n",
       "</table>\n",
       "</div>"
      ],
      "text/plain": [
       "            ride_id      ride_type          start_time            end_time  \\\n",
       "0  E19E6F1B8D4C42ED  electric_bike 2021-01-23 16:14:19 2021-01-23 16:24:44   \n",
       "1  DC88F20C2C55F27F  electric_bike 2021-01-27 18:43:08 2021-01-27 18:47:12   \n",
       "2  EC45C94683FE3F27  electric_bike 2021-01-21 22:35:54 2021-01-21 22:37:14   \n",
       "3  4FA453A75AE377DB  electric_bike 2021-01-07 13:31:13 2021-01-07 13:42:55   \n",
       "4  BE5E8EB4E7263A0B  electric_bike 2021-01-23 02:24:02 2021-01-23 02:24:45   \n",
       "\n",
       "           start_station_name start_station_id end_station_name  \\\n",
       "0  California Ave & Cortez St            17660              NaN   \n",
       "1  California Ave & Cortez St            17660              NaN   \n",
       "2  California Ave & Cortez St            17660              NaN   \n",
       "3  California Ave & Cortez St            17660              NaN   \n",
       "4  California Ave & Cortez St            17660              NaN   \n",
       "\n",
       "  end_station_id customer_type  trip_duration       date      time day_of_week  \n",
       "0            NaN        member             10 2021-01-23  16:14:19    Saturday  \n",
       "1            NaN        member              4 2021-01-27  18:43:08   Wednesday  \n",
       "2            NaN        member              1 2021-01-21  22:35:54    Thursday  \n",
       "3            NaN        member             11 2021-01-07  13:31:13    Thursday  \n",
       "4            NaN        casual              0 2021-01-23  02:24:02    Saturday  "
      ]
     },
     "execution_count": 32,
     "metadata": {},
     "output_type": "execute_result"
    }
   ],
   "source": [
    "Trip_data_2021.head()"
   ]
  },
  {
   "cell_type": "code",
   "execution_count": 33,
   "id": "6dca39fa",
   "metadata": {},
   "outputs": [],
   "source": [
    "#Extracting month year from col: dates in a month-year format\n",
    "Trip_data_2021['MonthYear'] = Trip_data_2021['date'].apply(lambda x: x.strftime('%B-%Y'))"
   ]
  },
  {
   "cell_type": "code",
   "execution_count": 34,
   "id": "a96c8f8d",
   "metadata": {},
   "outputs": [
    {
     "data": {
      "text/html": [
       "<div>\n",
       "<style scoped>\n",
       "    .dataframe tbody tr th:only-of-type {\n",
       "        vertical-align: middle;\n",
       "    }\n",
       "\n",
       "    .dataframe tbody tr th {\n",
       "        vertical-align: top;\n",
       "    }\n",
       "\n",
       "    .dataframe thead th {\n",
       "        text-align: right;\n",
       "    }\n",
       "</style>\n",
       "<table border=\"1\" class=\"dataframe\">\n",
       "  <thead>\n",
       "    <tr style=\"text-align: right;\">\n",
       "      <th></th>\n",
       "      <th>ride_id</th>\n",
       "      <th>ride_type</th>\n",
       "      <th>start_time</th>\n",
       "      <th>end_time</th>\n",
       "      <th>start_station_name</th>\n",
       "      <th>start_station_id</th>\n",
       "      <th>end_station_name</th>\n",
       "      <th>end_station_id</th>\n",
       "      <th>customer_type</th>\n",
       "      <th>trip_duration</th>\n",
       "      <th>date</th>\n",
       "      <th>time</th>\n",
       "      <th>day_of_week</th>\n",
       "      <th>MonthYear</th>\n",
       "    </tr>\n",
       "  </thead>\n",
       "  <tbody>\n",
       "    <tr>\n",
       "      <th>0</th>\n",
       "      <td>E19E6F1B8D4C42ED</td>\n",
       "      <td>electric_bike</td>\n",
       "      <td>2021-01-23 16:14:19</td>\n",
       "      <td>2021-01-23 16:24:44</td>\n",
       "      <td>California Ave &amp; Cortez St</td>\n",
       "      <td>17660</td>\n",
       "      <td>NaN</td>\n",
       "      <td>NaN</td>\n",
       "      <td>member</td>\n",
       "      <td>10</td>\n",
       "      <td>2021-01-23</td>\n",
       "      <td>16:14:19</td>\n",
       "      <td>Saturday</td>\n",
       "      <td>January-2021</td>\n",
       "    </tr>\n",
       "    <tr>\n",
       "      <th>1</th>\n",
       "      <td>DC88F20C2C55F27F</td>\n",
       "      <td>electric_bike</td>\n",
       "      <td>2021-01-27 18:43:08</td>\n",
       "      <td>2021-01-27 18:47:12</td>\n",
       "      <td>California Ave &amp; Cortez St</td>\n",
       "      <td>17660</td>\n",
       "      <td>NaN</td>\n",
       "      <td>NaN</td>\n",
       "      <td>member</td>\n",
       "      <td>4</td>\n",
       "      <td>2021-01-27</td>\n",
       "      <td>18:43:08</td>\n",
       "      <td>Wednesday</td>\n",
       "      <td>January-2021</td>\n",
       "    </tr>\n",
       "    <tr>\n",
       "      <th>2</th>\n",
       "      <td>EC45C94683FE3F27</td>\n",
       "      <td>electric_bike</td>\n",
       "      <td>2021-01-21 22:35:54</td>\n",
       "      <td>2021-01-21 22:37:14</td>\n",
       "      <td>California Ave &amp; Cortez St</td>\n",
       "      <td>17660</td>\n",
       "      <td>NaN</td>\n",
       "      <td>NaN</td>\n",
       "      <td>member</td>\n",
       "      <td>1</td>\n",
       "      <td>2021-01-21</td>\n",
       "      <td>22:35:54</td>\n",
       "      <td>Thursday</td>\n",
       "      <td>January-2021</td>\n",
       "    </tr>\n",
       "    <tr>\n",
       "      <th>3</th>\n",
       "      <td>4FA453A75AE377DB</td>\n",
       "      <td>electric_bike</td>\n",
       "      <td>2021-01-07 13:31:13</td>\n",
       "      <td>2021-01-07 13:42:55</td>\n",
       "      <td>California Ave &amp; Cortez St</td>\n",
       "      <td>17660</td>\n",
       "      <td>NaN</td>\n",
       "      <td>NaN</td>\n",
       "      <td>member</td>\n",
       "      <td>11</td>\n",
       "      <td>2021-01-07</td>\n",
       "      <td>13:31:13</td>\n",
       "      <td>Thursday</td>\n",
       "      <td>January-2021</td>\n",
       "    </tr>\n",
       "    <tr>\n",
       "      <th>4</th>\n",
       "      <td>BE5E8EB4E7263A0B</td>\n",
       "      <td>electric_bike</td>\n",
       "      <td>2021-01-23 02:24:02</td>\n",
       "      <td>2021-01-23 02:24:45</td>\n",
       "      <td>California Ave &amp; Cortez St</td>\n",
       "      <td>17660</td>\n",
       "      <td>NaN</td>\n",
       "      <td>NaN</td>\n",
       "      <td>casual</td>\n",
       "      <td>0</td>\n",
       "      <td>2021-01-23</td>\n",
       "      <td>02:24:02</td>\n",
       "      <td>Saturday</td>\n",
       "      <td>January-2021</td>\n",
       "    </tr>\n",
       "  </tbody>\n",
       "</table>\n",
       "</div>"
      ],
      "text/plain": [
       "            ride_id      ride_type          start_time            end_time  \\\n",
       "0  E19E6F1B8D4C42ED  electric_bike 2021-01-23 16:14:19 2021-01-23 16:24:44   \n",
       "1  DC88F20C2C55F27F  electric_bike 2021-01-27 18:43:08 2021-01-27 18:47:12   \n",
       "2  EC45C94683FE3F27  electric_bike 2021-01-21 22:35:54 2021-01-21 22:37:14   \n",
       "3  4FA453A75AE377DB  electric_bike 2021-01-07 13:31:13 2021-01-07 13:42:55   \n",
       "4  BE5E8EB4E7263A0B  electric_bike 2021-01-23 02:24:02 2021-01-23 02:24:45   \n",
       "\n",
       "           start_station_name start_station_id end_station_name  \\\n",
       "0  California Ave & Cortez St            17660              NaN   \n",
       "1  California Ave & Cortez St            17660              NaN   \n",
       "2  California Ave & Cortez St            17660              NaN   \n",
       "3  California Ave & Cortez St            17660              NaN   \n",
       "4  California Ave & Cortez St            17660              NaN   \n",
       "\n",
       "  end_station_id customer_type  trip_duration       date      time  \\\n",
       "0            NaN        member             10 2021-01-23  16:14:19   \n",
       "1            NaN        member              4 2021-01-27  18:43:08   \n",
       "2            NaN        member              1 2021-01-21  22:35:54   \n",
       "3            NaN        member             11 2021-01-07  13:31:13   \n",
       "4            NaN        casual              0 2021-01-23  02:24:02   \n",
       "\n",
       "  day_of_week     MonthYear  \n",
       "0    Saturday  January-2021  \n",
       "1   Wednesday  January-2021  \n",
       "2    Thursday  January-2021  \n",
       "3    Thursday  January-2021  \n",
       "4    Saturday  January-2021  "
      ]
     },
     "execution_count": 34,
     "metadata": {},
     "output_type": "execute_result"
    }
   ],
   "source": [
    "Trip_data_2021.head()"
   ]
  },
  {
   "cell_type": "code",
   "execution_count": 35,
   "id": "64e121c3",
   "metadata": {},
   "outputs": [
    {
     "name": "stdout",
     "output_type": "stream",
     "text": [
      "<class 'pandas.core.frame.DataFrame'>\n",
      "RangeIndex: 5595063 entries, 0 to 5595062\n",
      "Data columns (total 14 columns):\n",
      " #   Column              Dtype         \n",
      "---  ------              -----         \n",
      " 0   ride_id             object        \n",
      " 1   ride_type           object        \n",
      " 2   start_time          datetime64[ns]\n",
      " 3   end_time            datetime64[ns]\n",
      " 4   start_station_name  object        \n",
      " 5   start_station_id    object        \n",
      " 6   end_station_name    object        \n",
      " 7   end_station_id      object        \n",
      " 8   customer_type       object        \n",
      " 9   trip_duration       int64         \n",
      " 10  date                datetime64[ns]\n",
      " 11  time                object        \n",
      " 12  day_of_week         object        \n",
      " 13  MonthYear           object        \n",
      "dtypes: datetime64[ns](3), int64(1), object(10)\n",
      "memory usage: 597.6+ MB\n"
     ]
    }
   ],
   "source": [
    "Trip_data_2021.info()"
   ]
  },
  {
   "cell_type": "code",
   "execution_count": 36,
   "id": "cbf209ea",
   "metadata": {},
   "outputs": [
    {
     "data": {
      "text/plain": [
       "ride_id               True\n",
       "ride_type             True\n",
       "start_time            True\n",
       "end_time              True\n",
       "start_station_name    True\n",
       "start_station_id      True\n",
       "end_station_name      True\n",
       "end_station_id        True\n",
       "customer_type         True\n",
       "trip_duration         True\n",
       "date                  True\n",
       "time                  True\n",
       "day_of_week           True\n",
       "MonthYear             True\n",
       "dtype: bool"
      ]
     },
     "execution_count": 36,
     "metadata": {},
     "output_type": "execute_result"
    }
   ],
   "source": [
    "Trip_data_2021.any()"
   ]
  },
  {
   "cell_type": "code",
   "execution_count": 37,
   "id": "eb690e91",
   "metadata": {},
   "outputs": [],
   "source": [
    "Trip_data_2021.drop(Trip_data_2021.index[Trip_data_2021['trip_duration']==0], inplace=True )"
   ]
  },
  {
   "cell_type": "code",
   "execution_count": 38,
   "id": "4dc1b339",
   "metadata": {},
   "outputs": [
    {
     "name": "stdout",
     "output_type": "stream",
     "text": [
      "<class 'pandas.core.frame.DataFrame'>\n",
      "Int64Index: 5501032 entries, 0 to 5595062\n",
      "Data columns (total 14 columns):\n",
      " #   Column              Dtype         \n",
      "---  ------              -----         \n",
      " 0   ride_id             object        \n",
      " 1   ride_type           object        \n",
      " 2   start_time          datetime64[ns]\n",
      " 3   end_time            datetime64[ns]\n",
      " 4   start_station_name  object        \n",
      " 5   start_station_id    object        \n",
      " 6   end_station_name    object        \n",
      " 7   end_station_id      object        \n",
      " 8   customer_type       object        \n",
      " 9   trip_duration       int64         \n",
      " 10  date                datetime64[ns]\n",
      " 11  time                object        \n",
      " 12  day_of_week         object        \n",
      " 13  MonthYear           object        \n",
      "dtypes: datetime64[ns](3), int64(1), object(10)\n",
      "memory usage: 629.5+ MB\n"
     ]
    }
   ],
   "source": [
    "Trip_data_2021.info()"
   ]
  },
  {
   "cell_type": "code",
   "execution_count": 39,
   "id": "7c9a649f",
   "metadata": {},
   "outputs": [],
   "source": [
    "#dropping unnecessary columns\n",
    "Trip_data_2021 = Trip_data_2021.drop(columns=['ride_id','start_station_id','end_station_id'])"
   ]
  },
  {
   "cell_type": "code",
   "execution_count": 40,
   "id": "969a8a32",
   "metadata": {},
   "outputs": [
    {
     "data": {
      "text/plain": [
       "ride_type                  0\n",
       "start_time                 0\n",
       "end_time                   0\n",
       "start_station_name    669718\n",
       "end_station_name      713798\n",
       "customer_type              0\n",
       "trip_duration              0\n",
       "date                       0\n",
       "time                       0\n",
       "day_of_week                0\n",
       "MonthYear                  0\n",
       "dtype: int64"
      ]
     },
     "execution_count": 40,
     "metadata": {},
     "output_type": "execute_result"
    }
   ],
   "source": [
    "Trip_data_2021.isnull().sum()"
   ]
  },
  {
   "cell_type": "code",
   "execution_count": 41,
   "id": "2801722e",
   "metadata": {},
   "outputs": [],
   "source": [
    "# Dropping the rows with null values\n",
    "Trip_data_2021 = Trip_data_2021.dropna(axis = 0, how = 'any')"
   ]
  },
  {
   "cell_type": "code",
   "execution_count": 42,
   "id": "83114674",
   "metadata": {},
   "outputs": [
    {
     "data": {
      "text/plain": [
       "ride_type             0\n",
       "start_time            0\n",
       "end_time              0\n",
       "start_station_name    0\n",
       "end_station_name      0\n",
       "customer_type         0\n",
       "trip_duration         0\n",
       "date                  0\n",
       "time                  0\n",
       "day_of_week           0\n",
       "MonthYear             0\n",
       "dtype: int64"
      ]
     },
     "execution_count": 42,
     "metadata": {},
     "output_type": "execute_result"
    }
   ],
   "source": [
    "Trip_data_2021.isnull().sum()"
   ]
  },
  {
   "cell_type": "code",
   "execution_count": 43,
   "id": "86840ab2",
   "metadata": {},
   "outputs": [
    {
     "data": {
      "text/plain": [
       "[Text(0.5, 1.0, 'No. of Customers Member V/s Casual in usage of bikes')]"
      ]
     },
     "execution_count": 43,
     "metadata": {},
     "output_type": "execute_result"
    },
    {
     "data": {
      "image/png": "[encoded data removed]",
      "text/plain": [
       "<Figure size 720x360 with 1 Axes>"
      ]
     },
     "metadata": {
      "needs_background": "light"
     },
     "output_type": "display_data"
    }
   ],
   "source": [
    "fig, ax = plt.subplots(figsize=(10,5))\n",
    "sns.set_style('whitegrid')\n",
    "sns.countplot(x='ride_type', hue='customer_type', data = Trip_data_2021).set(title = 'No. of Customers Member V/s Casual in usage of bikes')"
   ]
  },
  {
   "cell_type": "code",
   "execution_count": 44,
   "id": "b558cb34",
   "metadata": {},
   "outputs": [
    {
     "data": {
      "text/plain": [
       "[Text(0.5, 1.0, 'WEEKLY USAGE OF BIKE SERVICE ON AVG. TRIP DURATION IN MINS ')]"
      ]
     },
     "execution_count": 44,
     "metadata": {},
     "output_type": "execute_result"
    },
    {
     "data": {
      "image/png": "[encoded data removed]",
      "text/plain": [
       "<Figure size 1080x576 with 1 Axes>"
      ]
     },
     "metadata": {},
     "output_type": "display_data"
    }
   ],
   "source": [
    "fig, ax = plt.subplots(figsize=(15,8))\n",
    "sns.set_style('whitegrid')\n",
    "sns.barplot(y='day_of_week', x='trip_duration', hue = 'customer_type', palette = 'Paired', data = Trip_data_2021).set(title = 'WEEKLY USAGE OF BIKE SERVICE ON AVG. TRIP DURATION IN MINS ')"
   ]
  },
  {
   "cell_type": "code",
   "execution_count": 45,
   "id": "0b552c9c",
   "metadata": {},
   "outputs": [
    {
     "data": {
      "text/plain": [
       "[Text(0.5, 1.0, 'MONTHLY USAGE OF BIKE SERVICE ON AVG. TRIP DURATION IN MINS ')]"
      ]
     },
     "execution_count": 45,
     "metadata": {},
     "output_type": "execute_result"
    },
    {
     "data": {
      "image/png": "[encoded data removed]",
      "text/plain": [
       "<Figure size 1080x576 with 1 Axes>"
      ]
     },
     "metadata": {},
     "output_type": "display_data"
    }
   ],
   "source": [
    "fig, ax = plt.subplots(figsize=(15,8))\n",
    "sns.set_style('whitegrid')\n",
    "sns.barplot(x='MonthYear', y='trip_duration', hue = 'customer_type', palette = 'Paired', data = Trip_data_2021).set(title = 'MONTHLY USAGE OF BIKE SERVICE ON AVG. TRIP DURATION IN MINS ')"
   ]
  },
  {
   "cell_type": "code",
   "execution_count": 46,
   "id": "ec8ee4aa",
   "metadata": {},
   "outputs": [
    {
     "data": {
      "text/plain": [
       "[Text(0.5, 1.0, 'MOST USED BIKE TYPE BETWEEN CUSTOMERS')]"
      ]
     },
     "execution_count": 46,
     "metadata": {},
     "output_type": "execute_result"
    },
    {
     "data": {
      "image/png": "[encoded data removed]",
      "text/plain": [
       "<Figure size 720x360 with 1 Axes>"
      ]
     },
     "metadata": {},
     "output_type": "display_data"
    }
   ],
   "source": [
    "fig, ax = plt.subplots(figsize=(10,5))\n",
    "sns.set_style('whitegrid')\n",
    "sns.barplot(x='ride_type', y='trip_duration', data = Trip_data_2021 ).set(title = 'MOST USED BIKE TYPE BETWEEN CUSTOMERS')"
   ]
  },
  {
   "cell_type": "code",
   "execution_count": 47,
   "id": "f9beaa0f",
   "metadata": {},
   "outputs": [
    {
     "data": {
      "text/plain": [
       "[Text(0.5, 1.0, 'AVERAGE DURATION IN MINS OF BIKE SERVICE USED BETWEEN CUSTOMERS')]"
      ]
     },
     "execution_count": 47,
     "metadata": {},
     "output_type": "execute_result"
    },
    {
     "data": {
      "image/png": "[encoded data removed]",
      "text/plain": [
       "<Figure size 720x360 with 1 Axes>"
      ]
     },
     "metadata": {},
     "output_type": "display_data"
    }
   ],
   "source": [
    "fig, ax = plt.subplots(figsize=(10,5))\n",
    "sns.set_style('whitegrid')\n",
    "sns.barplot(x='customer_type', y='trip_duration', data = Trip_data_2021 ).set(title = 'AVERAGE DURATION IN MINS OF BIKE SERVICE USED BETWEEN CUSTOMERS')"
   ]
  },
  {
   "cell_type": "code",
   "execution_count": 48,
   "id": "368ccf86",
   "metadata": {},
   "outputs": [],
   "source": [
    "# filtering the data frame to find the uasge of bikes as per customer type\n",
    "df_member_Trip_data = Trip_data_2021[(Trip_data_2021['customer_type']=='member')]"
   ]
  },
  {
   "cell_type": "code",
   "execution_count": 49,
   "id": "5029c9a3",
   "metadata": {},
   "outputs": [],
   "source": [
    "# filtering the data frame to find the uasge of bikes as per customer type\n",
    "df_casual_Trip_data = Trip_data_2021[(Trip_data_2021['customer_type']=='casual')]"
   ]
  },
  {
   "cell_type": "code",
   "execution_count": 50,
   "id": "de192826",
   "metadata": {},
   "outputs": [
    {
     "data": {
      "text/html": [
       "<div>\n",
       "<style scoped>\n",
       "    .dataframe tbody tr th:only-of-type {\n",
       "        vertical-align: middle;\n",
       "    }\n",
       "\n",
       "    .dataframe tbody tr th {\n",
       "        vertical-align: top;\n",
       "    }\n",
       "\n",
       "    .dataframe thead th {\n",
       "        text-align: right;\n",
       "    }\n",
       "</style>\n",
       "<table border=\"1\" class=\"dataframe\">\n",
       "  <thead>\n",
       "    <tr style=\"text-align: right;\">\n",
       "      <th></th>\n",
       "      <th>ride_type</th>\n",
       "      <th>start_time</th>\n",
       "      <th>end_time</th>\n",
       "      <th>start_station_name</th>\n",
       "      <th>end_station_name</th>\n",
       "      <th>customer_type</th>\n",
       "      <th>trip_duration</th>\n",
       "      <th>date</th>\n",
       "      <th>time</th>\n",
       "      <th>day_of_week</th>\n",
       "      <th>MonthYear</th>\n",
       "    </tr>\n",
       "  </thead>\n",
       "  <tbody>\n",
       "    <tr>\n",
       "      <th>9</th>\n",
       "      <td>classic_bike</td>\n",
       "      <td>2021-01-24 19:15:38</td>\n",
       "      <td>2021-01-24 19:22:51</td>\n",
       "      <td>California Ave &amp; Cortez St</td>\n",
       "      <td>Wood St &amp; Augusta Blvd</td>\n",
       "      <td>member</td>\n",
       "      <td>7</td>\n",
       "      <td>2021-01-24</td>\n",
       "      <td>19:15:38</td>\n",
       "      <td>Sunday</td>\n",
       "      <td>January-2021</td>\n",
       "    </tr>\n",
       "    <tr>\n",
       "      <th>10</th>\n",
       "      <td>electric_bike</td>\n",
       "      <td>2021-01-23 12:57:38</td>\n",
       "      <td>2021-01-23 13:02:10</td>\n",
       "      <td>California Ave &amp; Cortez St</td>\n",
       "      <td>California Ave &amp; North Ave</td>\n",
       "      <td>member</td>\n",
       "      <td>4</td>\n",
       "      <td>2021-01-23</td>\n",
       "      <td>12:57:38</td>\n",
       "      <td>Saturday</td>\n",
       "      <td>January-2021</td>\n",
       "    </tr>\n",
       "    <tr>\n",
       "      <th>14</th>\n",
       "      <td>electric_bike</td>\n",
       "      <td>2021-01-22 15:15:28</td>\n",
       "      <td>2021-01-22 15:36:01</td>\n",
       "      <td>California Ave &amp; Cortez St</td>\n",
       "      <td>Wells St &amp; Elm St</td>\n",
       "      <td>member</td>\n",
       "      <td>20</td>\n",
       "      <td>2021-01-22</td>\n",
       "      <td>15:15:28</td>\n",
       "      <td>Friday</td>\n",
       "      <td>January-2021</td>\n",
       "    </tr>\n",
       "    <tr>\n",
       "      <th>15</th>\n",
       "      <td>classic_bike</td>\n",
       "      <td>2021-01-05 10:33:12</td>\n",
       "      <td>2021-01-05 10:39:12</td>\n",
       "      <td>California Ave &amp; Cortez St</td>\n",
       "      <td>Sacramento Blvd &amp; Franklin Blvd</td>\n",
       "      <td>member</td>\n",
       "      <td>6</td>\n",
       "      <td>2021-01-05</td>\n",
       "      <td>10:33:12</td>\n",
       "      <td>Tuesday</td>\n",
       "      <td>January-2021</td>\n",
       "    </tr>\n",
       "    <tr>\n",
       "      <th>16</th>\n",
       "      <td>classic_bike</td>\n",
       "      <td>2021-01-30 11:59:16</td>\n",
       "      <td>2021-01-30 12:03:44</td>\n",
       "      <td>California Ave &amp; Cortez St</td>\n",
       "      <td>Western Ave &amp; Walton St</td>\n",
       "      <td>member</td>\n",
       "      <td>4</td>\n",
       "      <td>2021-01-30</td>\n",
       "      <td>11:59:16</td>\n",
       "      <td>Saturday</td>\n",
       "      <td>January-2021</td>\n",
       "    </tr>\n",
       "  </tbody>\n",
       "</table>\n",
       "</div>"
      ],
      "text/plain": [
       "        ride_type          start_time            end_time  \\\n",
       "9    classic_bike 2021-01-24 19:15:38 2021-01-24 19:22:51   \n",
       "10  electric_bike 2021-01-23 12:57:38 2021-01-23 13:02:10   \n",
       "14  electric_bike 2021-01-22 15:15:28 2021-01-22 15:36:01   \n",
       "15   classic_bike 2021-01-05 10:33:12 2021-01-05 10:39:12   \n",
       "16   classic_bike 2021-01-30 11:59:16 2021-01-30 12:03:44   \n",
       "\n",
       "            start_station_name                 end_station_name customer_type  \\\n",
       "9   California Ave & Cortez St           Wood St & Augusta Blvd        member   \n",
       "10  California Ave & Cortez St       California Ave & North Ave        member   \n",
       "14  California Ave & Cortez St                Wells St & Elm St        member   \n",
       "15  California Ave & Cortez St  Sacramento Blvd & Franklin Blvd        member   \n",
       "16  California Ave & Cortez St          Western Ave & Walton St        member   \n",
       "\n",
       "    trip_duration       date      time day_of_week     MonthYear  \n",
       "9               7 2021-01-24  19:15:38      Sunday  January-2021  \n",
       "10              4 2021-01-23  12:57:38    Saturday  January-2021  \n",
       "14             20 2021-01-22  15:15:28      Friday  January-2021  \n",
       "15              6 2021-01-05  10:33:12     Tuesday  January-2021  \n",
       "16              4 2021-01-30  11:59:16    Saturday  January-2021  "
      ]
     },
     "execution_count": 50,
     "metadata": {},
     "output_type": "execute_result"
    }
   ],
   "source": [
    "df_member_Trip_data.head()"
   ]
  },
  {
   "cell_type": "code",
   "execution_count": 51,
   "id": "82b7323b",
   "metadata": {},
   "outputs": [
    {
     "data": {
      "text/html": [
       "<div>\n",
       "<style scoped>\n",
       "    .dataframe tbody tr th:only-of-type {\n",
       "        vertical-align: middle;\n",
       "    }\n",
       "\n",
       "    .dataframe tbody tr th {\n",
       "        vertical-align: top;\n",
       "    }\n",
       "\n",
       "    .dataframe thead th {\n",
       "        text-align: right;\n",
       "    }\n",
       "</style>\n",
       "<table border=\"1\" class=\"dataframe\">\n",
       "  <thead>\n",
       "    <tr style=\"text-align: right;\">\n",
       "      <th></th>\n",
       "      <th>ride_type</th>\n",
       "      <th>start_time</th>\n",
       "      <th>end_time</th>\n",
       "      <th>start_station_name</th>\n",
       "      <th>end_station_name</th>\n",
       "      <th>customer_type</th>\n",
       "      <th>trip_duration</th>\n",
       "      <th>date</th>\n",
       "      <th>time</th>\n",
       "      <th>day_of_week</th>\n",
       "      <th>MonthYear</th>\n",
       "    </tr>\n",
       "  </thead>\n",
       "  <tbody>\n",
       "    <tr>\n",
       "      <th>11</th>\n",
       "      <td>electric_bike</td>\n",
       "      <td>2021-01-09 15:28:04</td>\n",
       "      <td>2021-01-09 15:37:51</td>\n",
       "      <td>California Ave &amp; Cortez St</td>\n",
       "      <td>Wood St &amp; Augusta Blvd</td>\n",
       "      <td>casual</td>\n",
       "      <td>9</td>\n",
       "      <td>2021-01-09</td>\n",
       "      <td>15:28:04</td>\n",
       "      <td>Saturday</td>\n",
       "      <td>January-2021</td>\n",
       "    </tr>\n",
       "    <tr>\n",
       "      <th>12</th>\n",
       "      <td>electric_bike</td>\n",
       "      <td>2021-01-09 15:28:57</td>\n",
       "      <td>2021-01-09 15:37:54</td>\n",
       "      <td>California Ave &amp; Cortez St</td>\n",
       "      <td>Wood St &amp; Augusta Blvd</td>\n",
       "      <td>casual</td>\n",
       "      <td>8</td>\n",
       "      <td>2021-01-09</td>\n",
       "      <td>15:28:57</td>\n",
       "      <td>Saturday</td>\n",
       "      <td>January-2021</td>\n",
       "    </tr>\n",
       "    <tr>\n",
       "      <th>13</th>\n",
       "      <td>classic_bike</td>\n",
       "      <td>2021-01-24 15:56:59</td>\n",
       "      <td>2021-01-24 16:07:08</td>\n",
       "      <td>California Ave &amp; Cortez St</td>\n",
       "      <td>Wood St &amp; Augusta Blvd</td>\n",
       "      <td>casual</td>\n",
       "      <td>10</td>\n",
       "      <td>2021-01-24</td>\n",
       "      <td>15:56:59</td>\n",
       "      <td>Sunday</td>\n",
       "      <td>January-2021</td>\n",
       "    </tr>\n",
       "    <tr>\n",
       "      <th>19</th>\n",
       "      <td>electric_bike</td>\n",
       "      <td>2021-01-10 08:05:47</td>\n",
       "      <td>2021-01-10 08:13:24</td>\n",
       "      <td>California Ave &amp; Cortez St</td>\n",
       "      <td>Leavitt St &amp; North Ave</td>\n",
       "      <td>casual</td>\n",
       "      <td>7</td>\n",
       "      <td>2021-01-10</td>\n",
       "      <td>08:05:47</td>\n",
       "      <td>Sunday</td>\n",
       "      <td>January-2021</td>\n",
       "    </tr>\n",
       "    <tr>\n",
       "      <th>20</th>\n",
       "      <td>electric_bike</td>\n",
       "      <td>2021-01-18 13:30:07</td>\n",
       "      <td>2021-01-18 13:37:19</td>\n",
       "      <td>California Ave &amp; Cortez St</td>\n",
       "      <td>Leavitt St &amp; North Ave</td>\n",
       "      <td>casual</td>\n",
       "      <td>7</td>\n",
       "      <td>2021-01-18</td>\n",
       "      <td>13:30:07</td>\n",
       "      <td>Monday</td>\n",
       "      <td>January-2021</td>\n",
       "    </tr>\n",
       "  </tbody>\n",
       "</table>\n",
       "</div>"
      ],
      "text/plain": [
       "        ride_type          start_time            end_time  \\\n",
       "11  electric_bike 2021-01-09 15:28:04 2021-01-09 15:37:51   \n",
       "12  electric_bike 2021-01-09 15:28:57 2021-01-09 15:37:54   \n",
       "13   classic_bike 2021-01-24 15:56:59 2021-01-24 16:07:08   \n",
       "19  electric_bike 2021-01-10 08:05:47 2021-01-10 08:13:24   \n",
       "20  electric_bike 2021-01-18 13:30:07 2021-01-18 13:37:19   \n",
       "\n",
       "            start_station_name        end_station_name customer_type  \\\n",
       "11  California Ave & Cortez St  Wood St & Augusta Blvd        casual   \n",
       "12  California Ave & Cortez St  Wood St & Augusta Blvd        casual   \n",
       "13  California Ave & Cortez St  Wood St & Augusta Blvd        casual   \n",
       "19  California Ave & Cortez St  Leavitt St & North Ave        casual   \n",
       "20  California Ave & Cortez St  Leavitt St & North Ave        casual   \n",
       "\n",
       "    trip_duration       date      time day_of_week     MonthYear  \n",
       "11              9 2021-01-09  15:28:04    Saturday  January-2021  \n",
       "12              8 2021-01-09  15:28:57    Saturday  January-2021  \n",
       "13             10 2021-01-24  15:56:59      Sunday  January-2021  \n",
       "19              7 2021-01-10  08:05:47      Sunday  January-2021  \n",
       "20              7 2021-01-18  13:30:07      Monday  January-2021  "
      ]
     },
     "execution_count": 51,
     "metadata": {},
     "output_type": "execute_result"
    }
   ],
   "source": [
    "df_casual_Trip_data.head()"
   ]
  },
  {
   "cell_type": "code",
   "execution_count": 52,
   "id": "aad7b3c8",
   "metadata": {},
   "outputs": [
    {
     "data": {
      "text/plain": [
       "[Text(0.5, 1.0, 'WEEKLY USAGE OF BIKE TYPE BY MEMBERS ON AVG. TRIP DURATION IN MINS ')]"
      ]
     },
     "execution_count": 52,
     "metadata": {},
     "output_type": "execute_result"
    },
    {
     "data": {
      "image/png": "[encoded data removed]",
      "text/plain": [
       "<Figure size 1080x576 with 1 Axes>"
      ]
     },
     "metadata": {},
     "output_type": "display_data"
    }
   ],
   "source": [
    "fig, ax = plt.subplots(figsize=(15,8))\n",
    "sns.set_style('whitegrid')\n",
    "sns.barplot(x='day_of_week', y='trip_duration', hue = 'ride_type', data = df_member_Trip_data ).set(title = 'WEEKLY USAGE OF BIKE TYPE BY MEMBERS ON AVG. TRIP DURATION IN MINS ')"
   ]
  },
  {
   "cell_type": "code",
   "execution_count": 53,
   "id": "3342ddd7",
   "metadata": {},
   "outputs": [
    {
     "data": {
      "text/plain": [
       "[Text(0.5, 1.0, 'MONTHLY USAGE OF BIKE TYPE BY MEMBERS ON AVG. TRIP DURATION IN MINS ')]"
      ]
     },
     "execution_count": 53,
     "metadata": {},
     "output_type": "execute_result"
    },
    {
     "data": {
      "image/png": "[encoded data removed]",
      "text/plain": [
       "<Figure size 1080x576 with 1 Axes>"
      ]
     },
     "metadata": {},
     "output_type": "display_data"
    }
   ],
   "source": [
    "fig, ax = plt.subplots(figsize=(15,8))\n",
    "sns.set_style('whitegrid')\n",
    "sns.barplot(x='MonthYear', y='trip_duration', hue = 'ride_type', data = df_member_Trip_data ).set(title = 'MONTHLY USAGE OF BIKE TYPE BY MEMBERS ON AVG. TRIP DURATION IN MINS ')"
   ]
  },
  {
   "cell_type": "code",
   "execution_count": 54,
   "id": "fe11cc6a",
   "metadata": {},
   "outputs": [
    {
     "data": {
      "text/plain": [
       "[Text(0.5, 1.0, 'WEEKLY USAGE OF BIKE TYPE BY CASUAL ON AVG. TRIP DURATION IN MINS ')]"
      ]
     },
     "execution_count": 54,
     "metadata": {},
     "output_type": "execute_result"
    },
    {
     "data": {
      "image/png": "[encoded data removed]",
      "text/plain": [
       "<Figure size 1080x576 with 1 Axes>"
      ]
     },
     "metadata": {},
     "output_type": "display_data"
    }
   ],
   "source": [
    "fig, ax = plt.subplots(figsize=(15,8))\n",
    "sns.set_style('whitegrid')\n",
    "sns.barplot(x='day_of_week', y='trip_duration', hue = 'ride_type', data = df_casual_Trip_data ).set(title = 'WEEKLY USAGE OF BIKE TYPE BY CASUAL ON AVG. TRIP DURATION IN MINS ')"
   ]
  },
  {
   "cell_type": "code",
   "execution_count": 55,
   "id": "25b50f49",
   "metadata": {},
   "outputs": [
    {
     "data": {
      "text/plain": [
       "[Text(0.5, 1.0, 'MONTHLY USAGE OF BIKE TYPE BY CASUAL ON AVG. TRIP DURATION IN MINS ')]"
      ]
     },
     "execution_count": 55,
     "metadata": {},
     "output_type": "execute_result"
    },
    {
     "data": {
      "image/png": "[encoded data removed]",
      "text/plain": [
       "<Figure size 1080x576 with 1 Axes>"
      ]
     },
     "metadata": {},
     "output_type": "display_data"
    }
   ],
   "source": [
    "fig, ax = plt.subplots(figsize=(15,8))\n",
    "sns.set_style('whitegrid')\n",
    "sns.barplot(x='MonthYear', y='trip_duration', hue = 'ride_type', data = df_casual_Trip_data ).set(title = 'MONTHLY USAGE OF BIKE TYPE BY CASUAL ON AVG. TRIP DURATION IN MINS ')"
   ]
  },
  {
   "cell_type": "code",
   "execution_count": 56,
   "id": "b149bb1f",
   "metadata": {},
   "outputs": [
    {
     "data": {
      "text/plain": [
       "array(['California Ave & Cortez St', 'Halsted St & North Branch St',\n",
       "       'Glenwood Ave & Touhy Ave', 'Michigan Ave & 8th St',\n",
       "       'Shedd Aquarium', 'Sedgwick St & North Ave',\n",
       "       'Rush St & Hubbard St', 'Campbell Ave & Montrose Ave',\n",
       "       'State St & Harrison St', 'Sheffield Ave & Fullerton Ave',\n",
       "       'Damen Ave & Leland Ave', '2112 W Peterson Ave',\n",
       "       'St. Clair St & Erie St', 'Southport Ave & Wellington Ave',\n",
       "       'Indiana Ave & Roosevelt Rd', 'Lincoln Park Conservatory',\n",
       "       'Clark St & Armitage Ave', 'Wood St & Augusta Blvd',\n",
       "       'Calumet Ave & 35th St', 'Halsted St & Roscoe St',\n",
       "       'Wood St & Chicago Ave', 'Kedzie Ave & Milwaukee Ave',\n",
       "       'Larrabee St & Division St', 'Damen Ave & Cortland St',\n",
       "       'Halsted St & Archer Ave', 'Honore St & Division St',\n",
       "       'LaSalle Dr & Huron St', 'Lincoln Ave & Addison St',\n",
       "       'Cityfront Plaza Dr & Pioneer Ct', 'Ogden Ave & Chicago Ave',\n",
       "       'Drake Ave & Montrose Ave', 'Ritchie Ct & Banks St',\n",
       "       'Clarendon Ave & Junior Ter', 'Orleans St & Hubbard St',\n",
       "       'Rush St & Superior St', 'McCormick Place',\n",
       "       'Lincoln Ave & Waveland Ave', 'Franklin St & Monroe St',\n",
       "       'Franklin St & Jackson Blvd', 'Fairbanks St & Superior St',\n",
       "       'Halsted St & Maxwell St', 'Damen Ave & Cullerton St',\n",
       "       'Michigan Ave & 14th St', 'Noble St & Milwaukee Ave',\n",
       "       'State St & Pearson St', 'Oakley Ave & Irving Park Rd',\n",
       "       'Indiana Ave & 26th St', 'Greenview Ave & Fullerton Ave',\n",
       "       'Loomis St & Jackson Blvd', 'Washtenaw Ave & Ogden Ave',\n",
       "       'Benson Ave & Church St', 'University Ave & 57th St',\n",
       "       'Logan Blvd & Elston Ave', 'Milwaukee Ave & Rockwell St',\n",
       "       'Desplaines St & Jackson Blvd',\n",
       "       'Orleans St & Merchandise Mart Plaza',\n",
       "       'Michigan Ave & Jackson Blvd', 'Halsted St & Clybourn Ave',\n",
       "       'Rhodes Ave & 32nd St', 'Marine Dr & Ainslie St',\n",
       "       'Troy St & North Ave', 'Racine Ave & 15th St',\n",
       "       'Wolcott Ave & Fargo Ave', 'Clark St & Chicago Ave',\n",
       "       'Wells St & Polk St', 'Clark St & Wrightwood Ave',\n",
       "       'Ashland Ave & Wellington Ave', 'Damen Ave & Sunnyside Ave',\n",
       "       'Washtenaw Ave & Lawrence Ave', 'Paulina St & Montrose Ave',\n",
       "       'Wells St & Elm St', 'New St & Illinois St',\n",
       "       'Clinton St & Jackson Blvd', 'Federal St & Polk St',\n",
       "       'California Ave & Francis Pl (Temp)',\n",
       "       'Christiana Ave & Lawrence Ave', 'Racine Ave & 13th St',\n",
       "       'Warren Park West', 'Wolcott (Ravenswood) Ave & Montrose Ave',\n",
       "       'Leavitt St & Armitage Ave', 'Clark St & Elmdale Ave',\n",
       "       'Wood St & 35th St', 'Clark St & Berwyn Ave',\n",
       "       'Southport Ave & Wrightwood Ave', 'Wentworth Ave & 24th St (Temp)',\n",
       "       'Southport Ave & Roscoe St', 'California Ave & Fletcher St',\n",
       "       'Damen Ave & Walnut (Lake) St', 'Western Ave & Division St',\n",
       "       'Wentworth Ave & 63rd St', 'Pulaski Rd & Eddy St (Temp)',\n",
       "       'Dearborn Pkwy & Delaware Pl', 'California Ave & North Ave',\n",
       "       'Richmond St & Diversey Ave', 'Halsted St & 35th St',\n",
       "       'Shields Ave & 31st St', 'Racine Ave & Congress Pkwy',\n",
       "       'Calumet Ave & 33rd St', 'Pine Grove Ave & Irving Park Rd',\n",
       "       'Wells St & Huron St', 'Fort Dearborn Dr & 31st St',\n",
       "       'Paulina St & Howard St', 'Central Park Ave & Elbridge Ave',\n",
       "       'Wells St & Evergreen Ave', 'Lakeview Ave & Fullerton Pkwy',\n",
       "       'Kilbourn Ave & Irving Park Rd', 'St. Louis Ave & Balmoral Ave',\n",
       "       'Broadway & Belmont Ave', 'Lincoln Ave & Winona St',\n",
       "       'Clark St & Drummond Pl', 'Wilton Ave & Diversey Pkwy',\n",
       "       'May St & Cullerton St', 'Clinton St & 18th St',\n",
       "       'Lake Shore Dr & Belmont Ave', 'Greenwood Ave & 47th St',\n",
       "       'Western Ave & 24th St', 'Lincoln Ave & Fullerton Ave',\n",
       "       'Wilton Ave & Belmont Ave', 'Broadway & Sheridan Rd',\n",
       "       'Emerald Ave & 28th St', 'Halsted St & Willow St',\n",
       "       'Clinton St & Polk St', 'Wabash Ave & 9th St',\n",
       "       'Paulina St & Flournoy St', 'Racine Ave & 35th St',\n",
       "       'Normal Ave & Archer Ave', 'Clark St & Columbia Ave',\n",
       "       'Larrabee St & Menomonee St', 'Clark St & Lake St',\n",
       "       'Damen Ave & Clybourn Ave', 'Sheffield Ave & Webster Ave',\n",
       "       'Larrabee St & Oak St', 'Theater on the Lake',\n",
       "       'California Ave & Lake St', 'Dorchester Ave & 49th St',\n",
       "       'Smith Park', 'Woodlawn Ave & 55th St',\n",
       "       'Sangamon St & Washington Blvd', 'Keystone Ave & Fullerton Ave',\n",
       "       'Kildare Ave & Montrose Ave', 'Lake Shore Dr & Wellington Ave',\n",
       "       'Clark St & Elm St', 'Princeton Ave & 47th St',\n",
       "       'Sheffield Ave & Willow St', 'Elston Ave & Wabansia Ave',\n",
       "       'Michigan Ave & Lake St', 'Mies van der Rohe Way & Chicago Ave',\n",
       "       'Spaulding Ave & Division St', 'Wells St & Hubbard St',\n",
       "       'Clark St & Schiller St', 'Kingsbury St & Erie St',\n",
       "       'Larrabee St & North Ave', 'California Ave & Milwaukee Ave',\n",
       "       'Damen Ave & Pierce Ave', 'Throop St & Taylor St',\n",
       "       'Paulina Ave & North Ave', 'Bissell St & Armitage Ave',\n",
       "       'Central Ave & Madison St', 'Southport Ave & Irving Park Rd',\n",
       "       'Damen Ave & Division St', 'Lake Shore Dr & Diversey Pkwy',\n",
       "       'Bosworth Ave & Howard St', 'Valli Produce - Evanston Plaza',\n",
       "       'Campbell Ave & Fullerton Ave', 'Damen Ave & Foster Ave',\n",
       "       'Kimball Ave & Belmont Ave', 'Racine Ave & Washington Blvd',\n",
       "       'Wood St & Hubbard St', 'Financial Pl & Ida B Wells Dr',\n",
       "       'Canal St & Adams St', 'University Library (NU)',\n",
       "       'Albany Ave & 26th St', 'MLK Jr Dr & 56th St',\n",
       "       'Evanston Civic Center', 'Dodge Ave & Main St',\n",
       "       'Ashland Ave & Archer Ave', 'Ridge Blvd & Touhy Ave',\n",
       "       'Clifton Ave & Armitage Ave', 'Artesian Ave & Hubbard St',\n",
       "       'Wacker Dr & Washington St', 'Halsted St & 21st St',\n",
       "       'Peoria St & Jackson Blvd', 'Sedgwick St & Webster Ave',\n",
       "       'Broadway & Thorndale Ave', 'Ashland Ave & Belle Plaine Ave',\n",
       "       'Canal St & Taylor St', 'LaSalle St & Jackson Blvd',\n",
       "       'Morgan St & Lake St', 'Columbus Dr & Randolph St',\n",
       "       'State St & Randolph St', 'Michigan Ave & Ida B Wells Dr',\n",
       "       'Broadway & Cornelia Ave', 'State St & Kinzie St',\n",
       "       'Dearborn St & Adams St', 'Cottage Grove Ave & Oakwood Blvd',\n",
       "       'Leavitt St & Chicago Ave', 'Wentworth Ave & 35th St',\n",
       "       'Western Ave & 21st St', 'Winthrop Ave & Lawrence Ave',\n",
       "       'Montrose Harbor', 'Ellis Ave & 53rd St',\n",
       "       'Streeter Dr & Grand Ave', 'Wood St & Milwaukee Ave',\n",
       "       'Morgan St & Polk St', 'Halsted St & Polk St',\n",
       "       'Maplewood Ave & Peterson Ave', 'Lake Park Ave & 56th St',\n",
       "       'Damen Ave & Charleston St', 'State St & 35th St',\n",
       "       'Buckingham Fountain', 'LaSalle St & Adams St',\n",
       "       'Central Ave & Lake St', 'Jefferson St & Monroe St',\n",
       "       'Wabash Ave & Roosevelt Rd', 'Halsted St & 69th St',\n",
       "       'Latrobe Ave & Chicago Ave', 'Milwaukee Ave & Wabansia Ave',\n",
       "       'Sedgwick St & Huron St', 'Ashland Ave & Grand Ave',\n",
       "       'Campbell Ave & North Ave', 'California Ave & Altgeld St',\n",
       "       'Clarendon Ave & Leland Ave', 'DuSable Museum',\n",
       "       'Southport Ave & Clark St', 'LaSalle St & Washington St',\n",
       "       'Albany Ave & Montrose Ave', 'Spaulding Ave & Armitage Ave',\n",
       "       'Clark St & Bryn Mawr Ave', 'California Ave & Byron St',\n",
       "       'McClurg Ct & Erie St', '900 W Harrison St',\n",
       "       'Halsted St & Dickens Ave', 'Indiana Ave & 31st St',\n",
       "       'Wabash Ave & Grand Ave', 'Wabash Ave & Cermak Rd',\n",
       "       'Racine Ave & 18th St', 'Franklin St & Chicago Ave',\n",
       "       'Clark St & Randolph St', 'Mies van der Rohe Way & Chestnut St',\n",
       "       'Perry Ave & 69th St', 'Larrabee St & Kingsbury St',\n",
       "       'Clinton St & Roosevelt Rd', 'Western Ave & Lunt Ave',\n",
       "       'Damen Ave & Chicago Ave', 'Damen Ave & Grand Ave',\n",
       "       'Central Park Ave & Ogden Ave', 'Kedzie Ave & Chicago Ave',\n",
       "       'Troy St & Elston Ave', 'Lincoln Ave & Sunnyside Ave',\n",
       "       'Kimbark Ave & 53rd St', 'Aberdeen St & Monroe St',\n",
       "       'Green St & Madison St', 'Ashland Ave & Blackhawk St',\n",
       "       'Clinton St & Lake St', 'Ada St & Washington Blvd',\n",
       "       'Drake Ave & Addison St', 'Clark St & Jarvis Ave',\n",
       "       'Chicago Ave & Washington St', 'Clark St & Schreiber Ave',\n",
       "       'Clark St & Montrose Ave', 'Greenview Ave & Jarvis Ave',\n",
       "       'MLK Jr Dr & 63rd St', 'Greenwood Ave & 79th St',\n",
       "       'Ashland Ave & Wrightwood Ave', 'Racine Ave & Belmont Ave',\n",
       "       'Canal St & Harrison St', 'Clark St & 9th St (AMLI)',\n",
       "       'Emerald Ave & 31st St', 'Stockton Dr & Wrightwood Ave',\n",
       "       'Lincoln Ave & Belmont Ave', 'Clinton St & Madison St',\n",
       "       'Lake Park Ave & 35th St', 'Kedzie Ave & Bryn Mawr Ave',\n",
       "       'Leavitt St & Belmont Ave', 'Hoyne Ave & Balmoral Ave',\n",
       "       'Ridge Blvd & Howard St', 'Racine Ave & Garfield Blvd',\n",
       "       'Damen Ave & Madison St', 'Ashland Ave & Lake St',\n",
       "       'Humboldt Blvd & Armitage Ave', 'Western Ave & Walton St',\n",
       "       'Western Ave & Fillmore St', 'Canal St & Madison St',\n",
       "       'Western Ave & Monroe St', 'Dodge Ave & Mulford St',\n",
       "       'Halsted St & Roosevelt Rd', 'State St & Van Buren St',\n",
       "       'Lincolnwood Dr & Central St', 'Ellis Ave & 55th St',\n",
       "       'Cannon Dr & Fullerton Ave', 'Cottage Grove Ave & 71st St',\n",
       "       'Monticello Ave & Irving Park Rd', 'Lawndale Ave & 111th St',\n",
       "       'Winchester (Ravenswood) Ave & Balmoral Ave',\n",
       "       'Archer (Damen) Ave & 37th St', 'Burnham Greenway & 105th St',\n",
       "       'Calumet Ave & 21st St', 'Kosciuszko Park',\n",
       "       'Central Park Blvd & 5th Ave', 'Conservatory Dr & Lake St',\n",
       "       'Halsted St & 56th St', 'Fairfield Ave & Roosevelt Rd',\n",
       "       'Winchester Ave & Elston Ave', 'Bradley Park',\n",
       "       'Sheffield Ave & Kingsbury St', 'Michigan Ave & Pearson St',\n",
       "       'Michigan Ave & 114th St', 'Marshfield Ave & 44th St',\n",
       "       'N Paulina St & Lincoln Ave', 'Walsh Park',\n",
       "       'Central Park Ave & Bloomingdale Ave', 'Stave St & Armitage Ave',\n",
       "       'LaSalle St & Illinois St', 'Greenwood Ave & 97th St',\n",
       "       'Kedzie Ave & Palmer Ct', 'Desplaines St & Kinzie St',\n",
       "       'Greenview Ave & Diversey Pkwy', 'Halsted St & 63rd St',\n",
       "       'Broadway & Barry Ave', 'Western Ave & Leland Ave',\n",
       "       'Museum of Science and Industry', 'Wells St & 19th St',\n",
       "       'Daley Center Plaza', 'Lake Shore Dr & Ohio St',\n",
       "       'Ashland Ave & Augusta Blvd', 'Lincoln Ave & Roscoe St',\n",
       "       'Clark St & Ida B Wells Dr', 'Eastlake Ter & Rogers Ave',\n",
       "       'Damen Ave & Thomas St (Augusta Blvd)', 'N Green St & W Lake St',\n",
       "       'Milwaukee Ave & Grand Ave', 'Wabash Ave & Wacker Pl',\n",
       "       'Lake Shore Dr & North Blvd', 'Ogden Ave & Race Ave',\n",
       "       'Dayton St & North Ave', 'Kingsbury St & Kinzie St',\n",
       "       'Dearborn St & Monroe St', 'Wells St & Walton St',\n",
       "       'Aberdeen St & Jackson Blvd', 'Larrabee St & Armitage Ave',\n",
       "       'Wentworth Ave & 33rd St', 'California Ave & 21st St',\n",
       "       'Halsted St & 37th St', 'Paulina St & 18th St',\n",
       "       'Ashland Ave & 13th St', 'Morgan St & 31st St',\n",
       "       'Laramie Ave & Madison St', 'Cottage Grove Ave & 43rd St',\n",
       "       'Central St & Girard Ave', 'Harper Ave & 59th St',\n",
       "       'Lakefront Trail & Wilson Ave', 'MLK Jr Dr & Pershing Rd',\n",
       "       'Burnham Harbor', 'Ellis Ave & 60th St',\n",
       "       'Ravenswood Ave & Lawrence Ave', 'Oglesby Ave & 100th St',\n",
       "       'Broadway & Argyle St', 'Lincoln Ave & Diversey Pkwy',\n",
       "       'Central Ave & Harrison St', 'Morgan St & 18th St',\n",
       "       'MLK Jr Dr & 29th St', 'Albany Ave & Bloomingdale Ave',\n",
       "       'Woodlawn Ave & Lake Park Ave', 'Indiana Ave & 40th St',\n",
       "       'Clark St & Lunt Ave', 'Knox Ave & Montrose Ave',\n",
       "       'Clark St & Lincoln Ave', 'Clark St & Winnemac Ave',\n",
       "       'Leavitt St & North Ave', 'Leavitt St & Lawrence Ave',\n",
       "       'Southport Ave & Waveland Ave', 'Lincoln Ave & Belle Plaine Ave',\n",
       "       'Malcolm X College', 'Franklin St & Adams St (Temp)',\n",
       "       'Orleans St & Elm St', 'Calumet Ave & 51st St',\n",
       "       'Cornell Ave & Hyde Park Blvd', 'N Southport Ave & W Newport Ave',\n",
       "       'Clark St & Grace St', 'Clark St & Leland Ave',\n",
       "       'State St & 19th St', 'Broadway & Wilson Ave',\n",
       "       'Princeton Ave & Garfield Blvd', 'Base - 2132 W Hubbard Warehouse',\n",
       "       'Jeffery Blvd & 76th St', 'Shore Dr & 55th St',\n",
       "       'Sheridan Rd & Noyes St (NU)', 'Sheridan Rd & Columbia Ave',\n",
       "       'Bernard St & Elston Ave', 'Elizabeth (May) St & Fulton St',\n",
       "       'Wells St & Concord Ln', 'Michigan Ave & Oak St',\n",
       "       'Francisco Ave & Foster Ave', 'Sheridan Rd & Loyola Ave',\n",
       "       'Canal St & Jackson Blvd', 'Western Ave & 28th St',\n",
       "       'Western Ave & Congress Pkwy', 'Claremont Ave & Hirsch St',\n",
       "       'Kedzie Ave & Lake St', 'State St & 29th St',\n",
       "       'Loomis St & Lexington St', 'Leavitt St & Addison St',\n",
       "       'Laramie Ave & Kinzie St', 'Racine Ave & Fullerton Ave',\n",
       "       'Kedzie Ave & Leland Ave', 'Millennium Park',\n",
       "       'Stony Island Ave & 82nd St', 'Fairbanks Ct & Grand Ave',\n",
       "       'Commercial Ave & 83rd St', 'California Ave & 26th St',\n",
       "       'South Shore Dr & 71st St', 'Kedzie Ave & Harrison St',\n",
       "       'Ravenswood Ave & Berteau Ave', 'Ellis Ave & 58th St',\n",
       "       'Kedzie Ave & 21st St', 'Marquette Ave & 89th St',\n",
       "       'State St & 79th St', 'Lake Park Ave & 47th St',\n",
       "       'Keystone Ave & Montrose Ave', 'Cottage Grove Ave & 111th Pl',\n",
       "       'Ashland Ave & Grace St', 'Hegewisch Metra Station',\n",
       "       'Ewing Ave & Burnham Greenway', 'Blue Island Ave & 18th St',\n",
       "       'Hoyne Ave & 47th St', 'Wood St & Taylor St (Temp)',\n",
       "       'Sheffield Ave & Wrightwood Ave', 'Jeffery Blvd & 71st St',\n",
       "       '63rd St Beach', 'Halsted St & 78th St',\n",
       "       'Western Ave & Granville Ave', 'Cicero Ave & Flournoy St',\n",
       "       'Austin Blvd & Chicago Ave', 'Malcolm X College Vaccination Site',\n",
       "       'Sawyer Ave & Irving Park Rd', 'Clinton St & Tilden St',\n",
       "       'South Shore Dr & 67th St', 'Stony Island Ave & 75th St',\n",
       "       'Millard Ave & 26th St', 'Wentworth Ave & Cermak Rd',\n",
       "       'Eggleston Ave & 69th St', 'Racine Ave & Wrightwood Ave',\n",
       "       'Vernon Ave & 107th St', 'Halsted St & 47th Pl',\n",
       "       'Warren Park East',\n",
       "       'Broadway & Wilson - Truman College Vaccination Site',\n",
       "       'Damen Ave & Wellington Ave', 'Halsted St & 18th St',\n",
       "       'Carpenter St & Huron St', 'Phillips Ave & 83rd St',\n",
       "       'Elizabeth St & 47th St', 'Dauphin Ave & 87th St',\n",
       "       'Eberhart Ave & 91st St', 'Wabash Ave & 87th St',\n",
       "       'Loomis St & Archer Ave', 'Clark St & Touhy Ave',\n",
       "       'Wabash Ave & 16th St', 'Glenwood Ave & Morse Ave',\n",
       "       'Racine Ave & 61st St', 'Cottage Grove Ave & 63rd St',\n",
       "       'Franklin St & Illinois St', 'Sheridan Rd & Greenleaf Ave',\n",
       "       'Larrabee St & Webster Ave', 'State St & 33rd St',\n",
       "       'Adler Planetarium', 'Dearborn St & Erie St',\n",
       "       'Ashland Ave & Division St', 'Kedzie Ave & Roosevelt Rd',\n",
       "       'Shields Ave & 43rd St', 'Kostner Ave & Lake St',\n",
       "       'Eggleston Ave & 92nd St', 'Morgan Ave & 14th Pl',\n",
       "       'Ashland Ave & Pershing Rd', 'California Ave & Montrose Ave',\n",
       "       'California Ave & Division St', 'Evans Ave & 75th St',\n",
       "       'Sheridan Rd & Lawrence Ave', 'Clarendon Ave & Gordon Ter',\n",
       "       'Central St Metra', 'Cottage Grove Ave & 78th St',\n",
       "       'Prospect Sq & 91st St', 'Cottage Grove Ave & 67th St',\n",
       "       'Damen Ave & Melrose Ave', 'Yates Blvd & 75th St',\n",
       "       'Jeffery Blvd & 67th St', 'Field Museum',\n",
       "       'Pulaski Rd & Congress Pkwy', 'Ravenswood Ave & Irving Park Rd',\n",
       "       'Hale Ave & 107th St', 'W Oakdale Ave & N Broadway',\n",
       "       'Torrence Ave & 106th St', 'St. Louis Ave & Fullerton Ave',\n",
       "       'Ashland Ave & McDowell Ave', 'Central Park Ave & North Ave',\n",
       "       'Morgan St & Pershing Rd', 'Lake Park Ave & 53rd St',\n",
       "       'Kenton Ave & Madison St', 'Cottage Grove Ave & 51st St',\n",
       "       'Halsted St & 96th St', 'Wentworth Ave & 104th St',\n",
       "       'Vincennes Ave & 104th St', 'Leavitt St & Archer Ave',\n",
       "       'Chicago Ave & Sheridan Rd', 'Dorchester Ave & 63rd St',\n",
       "       'Stony Island Ave & 71st St', 'Milwaukee Ave & Cuyler Ave',\n",
       "       'State St & 95th St', 'Cornell Dr & Hayes Dr',\n",
       "       'Stony Island Ave & 64th St', 'Ellis Ave & 83rd St',\n",
       "       'Wolcott Ave & Polk St', 'Clark St & Wellington Ave',\n",
       "       'Sheridan Rd & Buena Ave', 'Prairie Ave & Garfield Blvd',\n",
       "       'Sedgwick St & Schiller St', 'State St & Pershing Rd',\n",
       "       'Damen Ave & 51st St', 'Austin Blvd & Lake St',\n",
       "       'Avondale Ave & Irving Park Rd', 'Eckhart Park',\n",
       "       'Stony Island Ave & South Chicago Ave', 'Union Ave & Root St',\n",
       "       'Sacramento Blvd & Franklin Blvd', 'Central Park Ave & 24th St',\n",
       "       'Baltimore Ave & 87th St', 'Ogden Ave & Congress Pkwy',\n",
       "       'Kostner Ave & Adams St', 'N Sheffield Ave & W Wellington Ave',\n",
       "       'Austin Blvd & Madison St', 'Vernon Ave & 79th St',\n",
       "       'Ashland Ave & Garfield Blvd', 'State St & 54th St',\n",
       "       'Hermitage Ave & Polk St', 'Rhodes Ave & 71st St',\n",
       "       'Indiana Ave & 103rd St', 'Rainbow Beach',\n",
       "       'East End Ave & 87th St', 'Halsted St & 73rd St',\n",
       "       'Phillips Ave & 79th St', 'Clyde Ave & 87th St',\n",
       "       'W Armitage Ave & N Sheffield Ave', 'Green St & Randolph St',\n",
       "       'Desplaines St & Randolph St', 'Franklin St & Lake St',\n",
       "       'Marshfield Ave & Cortland St', 'Cottage Grove Ave & 47th St',\n",
       "       'Stewart Ave & 63rd St', 'Sheffield Ave & Wellington Ave',\n",
       "       'Broadway & Ridge Ave', 'Broadway & Berwyn Ave',\n",
       "       'Western Ave & Howard St', 'Avers Ave & Belmont Ave',\n",
       "       'Clinton St & Washington Blvd', 'Broadway & Waveland Ave',\n",
       "       'Budlong Woods Library', 'Racine Ave & Randolph St',\n",
       "       'Damen Ave & Coulter St', 'Wabash Ave & Adams St',\n",
       "       'Rush St & Cedar St', 'Pine Grove Ave & Waveland Ave',\n",
       "       'Western Ave & Winnebago Ave', 'Shields Ave & 28th Pl',\n",
       "       'Calumet Ave & 18th St', 'Sheridan Rd & Irving Park Rd',\n",
       "       'Burling St & Diversey Pkwy', 'Seeley Ave & Roscoe St',\n",
       "       'Michigan Ave & Washington St', 'Prairie Ave & 43rd St',\n",
       "       'May St & Taylor St', 'Clybourn Ave & Division St',\n",
       "       'Ogden Ave & Roosevelt Rd', 'Lakefront Trail & Bryn Mawr Ave',\n",
       "       'Lake Shore Dr & Monroe St', 'Kedzie Ave & Foster Ave',\n",
       "       'Southport Ave & Clybourn Ave', 'Elmwood Ave & Austin St',\n",
       "       'Stetson Ave & South Water St', 'Wallace St & 35th St',\n",
       "       'Rockwell St & Eastwood Ave',\n",
       "       'Orleans St & Chestnut St (NEXT Apts)', 'Walden Pkwy & 100th St',\n",
       "       'Halsted St & Wrightwood Ave', 'Sheffield Ave & Waveland Ave',\n",
       "       'Southport Ave & Belmont Ave', 'Leavitt St & Division St',\n",
       "       'Michigan Ave & Madison St', 'Dusable Harbor',\n",
       "       'Dearborn St & Van Buren St', 'Michigan Ave & 18th St',\n",
       "       'Broadway & Granville Ave', 'Big Marsh Park',\n",
       "       'Homewood Ave & 115th St', 'Manor Ave & Leland Ave',\n",
       "       'Delano Ct & Roosevelt Rd', 'Oakley Ave & Touhy Ave',\n",
       "       'Aberdeen St & Randolph St', 'Field Blvd & South Water St',\n",
       "       'Canal St & Monroe St', 'Ashland Ave & Chicago Ave',\n",
       "       'Western Ave & Roscoe St', 'South Shore Dr & 74th St',\n",
       "       'Talman Ave & Addison St', 'Eberhart Ave & 61st St',\n",
       "       'Avenue O & 118th St', 'California Ave & 23rd Pl',\n",
       "       'Vernon Ave & 75th St', 'Central Ave & Chicago Ave',\n",
       "       'Stewart Ave & 83rd St', 'Stony Island Ave & 90th St',\n",
       "       'Clark St & Newport St', 'Laflin St & Cullerton St',\n",
       "       'Sheridan Rd & Montrose Ave', 'Clark St & North Ave',\n",
       "       'MLK Jr Dr & 47th St', 'Woodlawn Ave & 75th St',\n",
       "       'Blackstone Ave & Hyde Park Blvd', 'Dodge Ave & Church St',\n",
       "       'Greenwood Ave & 91st St', 'Western Blvd & 48th Pl',\n",
       "       'Kilbourn Ave & Milwaukee Ave', 'Damen Ave & Pershing Rd',\n",
       "       'Cherry Ave & Blackhawk St', 'Kedzie Ave & 24th St',\n",
       "       'Karlov Ave & Madison St', 'Stony Island Ave & 67th St',\n",
       "       'Cottage Grove Ave & 83rd St', 'Cicero Ave & Lake St',\n",
       "       'Halsted St & 51st St', 'State St & 123rd St',\n",
       "       'Pulaski Rd & Lake St', 'Avenue O & 134th St',\n",
       "       'W Washington Blvd & N Peoria St', 'Elizabeth St & 92nd St',\n",
       "       'Ada St & 113th St', 'Halsted St & 111th St',\n",
       "       'Halsted & 63rd - Kennedy-King Vaccination Site',\n",
       "       'Dauphin Ave & 103rd St', 'Ashland Ave & 74th St',\n",
       "       'Western & 28th - Velasquez Institute Vaccination Site',\n",
       "       'Bennett Ave & 79th St', 'Constance Ave & 95th St',\n",
       "       'Western Ave & 104th St', 'Summit Ave & 86th St',\n",
       "       'MLK Jr Dr & 83rd St', 'Cicero Ave & Quincy St',\n",
       "       'Western Ave & 111th St', 'Major Taylor Trail & 124th St',\n",
       "       'Chicago State University', 'Kedzie Ave & 110th St',\n",
       "       'Ashland Ave & 66th St', 'Ashland Ave & 63rd St',\n",
       "       'Vincennes Ave & 75th St', 'May St & 69th St',\n",
       "       'State St & 76th St', 'Seeley Ave & Garfield Blvd',\n",
       "       'Wabash Ave & 83rd St', 'Elizabeth St & 59th St',\n",
       "       'Houston Ave & 92nd St', 'Calumet Ave & 71st St',\n",
       "       'Damen Ave & Wabansia Ave', 'Ashland Ave & 50th St',\n",
       "       'Marshfield Ave & 59th St', 'Ashland Ave & 78th St',\n",
       "       'Torrence Ave & 126th Pl', 'Michigan Ave & 71st St',\n",
       "       'Loomis Blvd & 84th St', 'Damen Ave & 59th St',\n",
       "       'N Hampden Ct & W Diversey Ave', 'Major Taylor Trail & 115th St',\n",
       "       'Laramie Ave & Gladys Ave', 'N Carpenter St & W Lake St',\n",
       "       'Eberhart Ave & 131st St', 'Commercial Ave & 130th St',\n",
       "       'Halsted St & 59th St', 'Exchange Ave & 79th St',\n",
       "       'Halsted St & 104th St', 'Hampden Ct & Diversey Ave',\n",
       "       'Commercial Ave & 100th St', 'South Chicago Ave & 83rd St',\n",
       "       'Kedzie Ave & 104th St', 'Throop St & 52nd St',\n",
       "       'Carpenter St & 63rd St', 'Calumet Park',\n",
       "       'Elston Ave & Cortland St', 'Altgeld Gardens',\n",
       "       'Racine Ave & 65th St', 'Loomis St & 89th St',\n",
       "       'South Chicago Ave & Elliot Ave', 'N Clark St & W Elm St',\n",
       "       'Yates Blvd & 93rd St', 'W 103rd St & S Avers Ave',\n",
       "       'Maryland Ave & 104th St', 'Lyft Driver Center Private Rack',\n",
       "       'Cicero Ave & Grace St', 'DuSable Lake Shore Dr & Belmont Ave',\n",
       "       'DuSable Lake Shore Dr & Monroe St',\n",
       "       'DuSable Lake Shore Dr & North Blvd',\n",
       "       'DuSable Lake Shore Dr & Ohio St',\n",
       "       'DuSable Lake Shore Dr & Wellington Ave',\n",
       "       'DuSable Lake Shore Dr & Diversey Pkwy', 'WEST CHI-WATSON',\n",
       "       'Halsted St & 18th St (Temp)', 'Lawndale Ave & 16th St',\n",
       "       'Spaulding Ave & 16th St', 'Homan Ave & Fillmore St',\n",
       "       'Lavergne & Fullerton',\n",
       "       'Woodlawn & 103rd - Olive Harvey Vaccination Site',\n",
       "       'Avenue L & 114th St', 'DIVVY CASSETTE REPAIR MOBILE STATION',\n",
       "       'Kildare Ave & 26th St', 'Kilpatrick Ave & Parker Ave',\n",
       "       'S Aberdeen St & W 106th St', 'Central Park Ave & Douglas Blvd',\n",
       "       'Lamon Ave & Belmont Ave', 'Tripp Ave & 31st St',\n",
       "       'Long Ave & Belmont Ave', 'Meade Ave & Diversey Ave',\n",
       "       'Long Ave & Belden Ave', 'Tripp Ave & 15th St',\n",
       "       'Central Ave & Parker Ave', 'Lawndale Ave & 30th St',\n",
       "       'Meade Ave & Addison St', 'Kilbourn & Roscoe',\n",
       "       'Mulligan Ave & Wellington Ave', 'Parkside Ave & Armitage Ave',\n",
       "       'Lockwood Ave & Wrightwood Ave', 'Plainfield & Irving Park',\n",
       "       'Narragansett Ave & School St', 'Central Ave & Roscoe St', '351',\n",
       "       'Long & Irving Park', 'Keeler Ave & Roosevelt Rd',\n",
       "       'Komensky Ave & 31st St', 'Kostner Ave & Wrightwood Ave',\n",
       "       'Mason Ave & Belmont Ave', 'North Ave & New England Ave',\n",
       "       'Harding Ave & 26th St', 'Pulaski Rd & 21st St',\n",
       "       'Harlem Ave & Grace St', 'Oketo Ave & Addison St',\n",
       "       'Roscoe & Harlem', 'Lamon Ave & Armitage Ave', 'Sayre & Diversey',\n",
       "       'Kilbourn & Belden', 'Orange & Addison', 'Harlem & Irving Park',\n",
       "       'Menard Ave & Division St', 'Kedzie Ave & 52nd St',\n",
       "       'Panama Ave & Grace St', 'Major Ave & Bloomingdale Ave',\n",
       "       'Nordica & Medill', 'Narragansett & Irving Park',\n",
       "       'Western Ave & 62nd St', 'Doty Ave & 111th St',\n",
       "       'Narragansett & Wrightwood', 'Kenosha & Wellington',\n",
       "       'Archer Ave & 43rd St', 'Oak Park & Wellington',\n",
       "       'Narragansett & McLean', 'Richmond St & 59th St',\n",
       "       'Lamon Ave & Chicago Ave', 'Bloomingdale Ave & Harlem Ave',\n",
       "       'Hoyne Ave & 34th St', 'Lavergne Ave & Division St',\n",
       "       'St Louis Ave & Norman Bobbins Ave',\n",
       "       'Monticello Ave & Chicago Ave', 'Kildare Ave & Chicago Ave',\n",
       "       'Kedzie Ave & 48th Pl', 'Maplewood Ave & 59th St',\n",
       "       'Kildare Ave & Division St', 'Ping Tom Park (East)',\n",
       "       'Rockwell St & Archer Ave', 'Sacramento Ave & Pershing Rd',\n",
       "       'California Ave & 36th St', 'Leamington Ave & Hirsch St',\n",
       "       'Western Ave & Gunnison St', 'Rockwell St & 57th St',\n",
       "       'Damen Ave & 33rd St', 'N Damen Ave & W Chicago Ave',\n",
       "       'Kostner Ave & 63rd St', 'Pulaski Rd & 51st St',\n",
       "       'Lavergne Ave & 46th St', 'Fairfield Ave & 44th St',\n",
       "       'Tripp Ave & 65th St', 'S Michigan Ave & E 118th St',\n",
       "       'Troy St & Grace St', 'Pulaski Rd & 60th St',\n",
       "       'Komensky Ave & 55th St', 'Kedzie Ave & 57th St',\n",
       "       'Long Ave & North Ave', 'Central Park & Augusta Blvd',\n",
       "       'Lawler Ave & 50th St', 'Central Park Ave & Ohio St',\n",
       "       'Milwaukee Ave & Fullerton Ave', 'Springfield Ave & 47th St',\n",
       "       'Spaulding Ave & 63rd St', 'Kildare Ave & 55th St',\n",
       "       'Artesian Ave & 55th St', 'Pulaski & Ann Lurie Pl',\n",
       "       'Albany Ave & Belmont Ave', 'Indiana Ave & 133rd St',\n",
       "       'Lincoln Ave & Balmoral Ave', 'Kenneth Ave & 50th St',\n",
       "       'S Wentworth Ave & W 111th St', 'California Ave & Winona St',\n",
       "       'Whipple/Irving Park', 'Western Ave & Grace St',\n",
       "       'Rockwell St & Fletcher St', 'Elston Ave & George St',\n",
       "       'Lincoln Ave & Peterson Ave', 'Francisco Ave & Bloomingdale Ave',\n",
       "       'N Shore Channel Trail & Argyle Ave', 'Kedzie Ave & George St',\n",
       "       'Kildare Ave & 47th St', 'Augusta Blvd & Laramie Ave',\n",
       "       'Kilpatrick Ave & Grand Ave', 'St Louis Ave & 59th St',\n",
       "       'Rockwell St & Cermak Rd', 'Francisco Ave & Montrose Ave',\n",
       "       'Virginia Ave & Catalpa Ave', 'California Ave & Marquette Rd',\n",
       "       'Richmond St & Lincoln Ave', 'Sacramento Blvd & Polk St',\n",
       "       'Washtenaw Ave & Peterson Ave', 'Hamlin Ave & 62nd Pl',\n",
       "       'Elston Ave & Henderson St', 'Menard Ave & North Ave',\n",
       "       'Sacramento Ave & 25th St', 'Western Ave & Ardmore Ave',\n",
       "       'Sacramento Blvd & Addison St', 'Francisco Ave & Hollywood Ave',\n",
       "       'California Ave & 29th St', 'State St & Chicago Ave',\n",
       "       'McClurg Ct & Ohio St', 'Mozart St & Jackson Blvd',\n",
       "       'Western Ave & Lake St', 'Washtenaw Ave & Madison St',\n",
       "       'Francisco Ave & 47th St', 'Sacramento Blvd & Fulton Ave',\n",
       "       'Olive Harvey College', 'Campbell Ave & 51st St'], dtype=object)"
      ]
     },
     "execution_count": 56,
     "metadata": {},
     "output_type": "execute_result"
    }
   ],
   "source": [
    "Trip_data_2021['start_station_name'].unique()"
   ]
  },
  {
   "cell_type": "code",
   "execution_count": 57,
   "id": "5a66c806",
   "metadata": {},
   "outputs": [],
   "source": [
    "Most_visited_station_start_members = pd.value_counts(df_member_Trip_data['start_station_name'].values)"
   ]
  },
  {
   "cell_type": "code",
   "execution_count": 58,
   "id": "15f784e6",
   "metadata": {},
   "outputs": [
    {
     "data": {
      "text/plain": [
       "Clark St & Elm St           23564\n",
       "Wells St & Concord Ln       22467\n",
       "Kingsbury St & Kinzie St    22355\n",
       "Wells St & Elm St           19974\n",
       "Dearborn St & Erie St       18359\n",
       "dtype: int64"
      ]
     },
     "execution_count": 58,
     "metadata": {},
     "output_type": "execute_result"
    }
   ],
   "source": [
    "Most_visited_station_start_members.head()"
   ]
  },
  {
   "cell_type": "code",
   "execution_count": 59,
   "id": "6c76e8ac",
   "metadata": {},
   "outputs": [],
   "source": [
    "Most_visited_station_start_casuals = pd.value_counts(df_casual_Trip_data['start_station_name'].values)"
   ]
  },
  {
   "cell_type": "code",
   "execution_count": 60,
   "id": "0c42244c",
   "metadata": {},
   "outputs": [
    {
     "data": {
      "text/plain": [
       "Streeter Dr & Grand Ave    63326\n",
       "Millennium Park            31602\n",
       "Michigan Ave & Oak St      28154\n",
       "Shedd Aquarium             22191\n",
       "Theater on the Lake        20294\n",
       "dtype: int64"
      ]
     },
     "execution_count": 60,
     "metadata": {},
     "output_type": "execute_result"
    }
   ],
   "source": [
    "Most_visited_station_start_casuals.head()"
   ]
  },
  {
   "cell_type": "code",
   "execution_count": 61,
   "id": "18b51c17",
   "metadata": {},
   "outputs": [],
   "source": [
    "Most_visited_station_end_members = pd.value_counts(df_member_Trip_data['end_station_name'].values)"
   ]
  },
  {
   "cell_type": "code",
   "execution_count": 62,
   "id": "a3e5de3d",
   "metadata": {},
   "outputs": [
    {
     "data": {
      "text/plain": [
       "Clark St & Elm St           23636\n",
       "Wells St & Concord Ln       23117\n",
       "Kingsbury St & Kinzie St    22542\n",
       "Wells St & Elm St           20531\n",
       "Dearborn St & Erie St       19014\n",
       "dtype: int64"
      ]
     },
     "execution_count": 62,
     "metadata": {},
     "output_type": "execute_result"
    }
   ],
   "source": [
    "Most_visited_station_end_members.head()"
   ]
  },
  {
   "cell_type": "code",
   "execution_count": 63,
   "id": "b4f83783",
   "metadata": {},
   "outputs": [],
   "source": [
    "Most_visited_station_end_casual = pd.value_counts(df_casual_Trip_data['end_station_name'].values)"
   ]
  },
  {
   "cell_type": "code",
   "execution_count": 64,
   "id": "ab2e9f38",
   "metadata": {},
   "outputs": [
    {
     "data": {
      "text/plain": [
       "Streeter Dr & Grand Ave    66380\n",
       "Millennium Park            33157\n",
       "Michigan Ave & Oak St      29831\n",
       "Theater on the Lake        21966\n",
       "Shedd Aquarium             20799\n",
       "dtype: int64"
      ]
     },
     "execution_count": 64,
     "metadata": {},
     "output_type": "execute_result"
    }
   ],
   "source": [
    "Most_visited_station_end_casual.head()"
   ]
  },
  {
   "cell_type": "code",
   "execution_count": 65,
   "id": "6eeb3b27",
   "metadata": {},
   "outputs": [],
   "source": [
    "#Creating a data frame with the top 5 station visited based on the number of times visited among member riders\n",
    "Most_visited_station_members = pd.DataFrame({'station_name':['Clark St & Elm St','Wells St & Concord Ln','Kingsbury St & Kinzie St','Wells St & Elm St','Dearborn St & Erie St '], 'No.of times visited': [23564,22467,22355,19974,18359]})"
   ]
  },
  {
   "cell_type": "code",
   "execution_count": 66,
   "id": "4938746c",
   "metadata": {},
   "outputs": [
    {
     "data": {
      "text/html": [
       "<div>\n",
       "<style scoped>\n",
       "    .dataframe tbody tr th:only-of-type {\n",
       "        vertical-align: middle;\n",
       "    }\n",
       "\n",
       "    .dataframe tbody tr th {\n",
       "        vertical-align: top;\n",
       "    }\n",
       "\n",
       "    .dataframe thead th {\n",
       "        text-align: right;\n",
       "    }\n",
       "</style>\n",
       "<table border=\"1\" class=\"dataframe\">\n",
       "  <thead>\n",
       "    <tr style=\"text-align: right;\">\n",
       "      <th></th>\n",
       "      <th>station_name</th>\n",
       "      <th>No.of times visited</th>\n",
       "    </tr>\n",
       "  </thead>\n",
       "  <tbody>\n",
       "    <tr>\n",
       "      <th>0</th>\n",
       "      <td>Clark St &amp; Elm St</td>\n",
       "      <td>23564</td>\n",
       "    </tr>\n",
       "    <tr>\n",
       "      <th>1</th>\n",
       "      <td>Wells St &amp; Concord Ln</td>\n",
       "      <td>22467</td>\n",
       "    </tr>\n",
       "    <tr>\n",
       "      <th>2</th>\n",
       "      <td>Kingsbury St &amp; Kinzie St</td>\n",
       "      <td>22355</td>\n",
       "    </tr>\n",
       "    <tr>\n",
       "      <th>3</th>\n",
       "      <td>Wells St &amp; Elm St</td>\n",
       "      <td>19974</td>\n",
       "    </tr>\n",
       "    <tr>\n",
       "      <th>4</th>\n",
       "      <td>Dearborn St &amp; Erie St</td>\n",
       "      <td>18359</td>\n",
       "    </tr>\n",
       "  </tbody>\n",
       "</table>\n",
       "</div>"
      ],
      "text/plain": [
       "               station_name  No.of times visited\n",
       "0         Clark St & Elm St                23564\n",
       "1     Wells St & Concord Ln                22467\n",
       "2  Kingsbury St & Kinzie St                22355\n",
       "3         Wells St & Elm St                19974\n",
       "4    Dearborn St & Erie St                 18359"
      ]
     },
     "execution_count": 66,
     "metadata": {},
     "output_type": "execute_result"
    }
   ],
   "source": [
    "Most_visited_station_members"
   ]
  },
  {
   "cell_type": "code",
   "execution_count": 67,
   "id": "98c5bad4",
   "metadata": {},
   "outputs": [],
   "source": [
    "#Creating a data frame with the top 5 station visited based on the number of times visited among casual riders\n",
    "Most_visited_station_casuals = pd.DataFrame({'station_name':['Streeter Dr & Grand Ave','Millennium Park','Michigan Ave & Oak St','Shedd Aquarium','Theater on the Lake'], 'No.of times visited': [63326,31602,28154,22191,20294]})"
   ]
  },
  {
   "cell_type": "code",
   "execution_count": 68,
   "id": "5d12bad7",
   "metadata": {},
   "outputs": [
    {
     "data": {
      "text/html": [
       "<div>\n",
       "<style scoped>\n",
       "    .dataframe tbody tr th:only-of-type {\n",
       "        vertical-align: middle;\n",
       "    }\n",
       "\n",
       "    .dataframe tbody tr th {\n",
       "        vertical-align: top;\n",
       "    }\n",
       "\n",
       "    .dataframe thead th {\n",
       "        text-align: right;\n",
       "    }\n",
       "</style>\n",
       "<table border=\"1\" class=\"dataframe\">\n",
       "  <thead>\n",
       "    <tr style=\"text-align: right;\">\n",
       "      <th></th>\n",
       "      <th>station_name</th>\n",
       "      <th>No.of times visited</th>\n",
       "    </tr>\n",
       "  </thead>\n",
       "  <tbody>\n",
       "    <tr>\n",
       "      <th>0</th>\n",
       "      <td>Streeter Dr &amp; Grand Ave</td>\n",
       "      <td>63326</td>\n",
       "    </tr>\n",
       "    <tr>\n",
       "      <th>1</th>\n",
       "      <td>Millennium Park</td>\n",
       "      <td>31602</td>\n",
       "    </tr>\n",
       "    <tr>\n",
       "      <th>2</th>\n",
       "      <td>Michigan Ave &amp; Oak St</td>\n",
       "      <td>28154</td>\n",
       "    </tr>\n",
       "    <tr>\n",
       "      <th>3</th>\n",
       "      <td>Shedd Aquarium</td>\n",
       "      <td>22191</td>\n",
       "    </tr>\n",
       "    <tr>\n",
       "      <th>4</th>\n",
       "      <td>Theater on the Lake</td>\n",
       "      <td>20294</td>\n",
       "    </tr>\n",
       "  </tbody>\n",
       "</table>\n",
       "</div>"
      ],
      "text/plain": [
       "              station_name  No.of times visited\n",
       "0  Streeter Dr & Grand Ave                63326\n",
       "1          Millennium Park                31602\n",
       "2    Michigan Ave & Oak St                28154\n",
       "3           Shedd Aquarium                22191\n",
       "4      Theater on the Lake                20294"
      ]
     },
     "execution_count": 68,
     "metadata": {},
     "output_type": "execute_result"
    }
   ],
   "source": [
    "Most_visited_station_casuals"
   ]
  },
  {
   "cell_type": "code",
   "execution_count": 69,
   "id": "fac10a01",
   "metadata": {},
   "outputs": [
    {
     "data": {
      "text/plain": [
       "[Text(0.5, 1.0, 'MOST VISITED STATION AMONG MEMBER RIDERS')]"
      ]
     },
     "execution_count": 69,
     "metadata": {},
     "output_type": "execute_result"
    },
    {
     "data": {
      "image/png": "[encoded data removed]",
      "text/plain": [
       "<Figure size 1080x576 with 1 Axes>"
      ]
     },
     "metadata": {},
     "output_type": "display_data"
    }
   ],
   "source": [
    "fig, ax = plt.subplots(figsize=(15,8))\n",
    "sns.set_style('whitegrid')\n",
    "sns.barplot(x='station_name', y='No.of times visited', data = Most_visited_station_members ).set(title = 'MOST VISITED STATION AMONG MEMBER RIDERS')"
   ]
  },
  {
   "cell_type": "code",
   "execution_count": 70,
   "id": "364e8afd",
   "metadata": {},
   "outputs": [
    {
     "data": {
      "text/plain": [
       "[Text(0.5, 1.0, 'MOST VISITED STATION AMONG CASUAL RIDERS')]"
      ]
     },
     "execution_count": 70,
     "metadata": {},
     "output_type": "execute_result"
    },
    {
     "data": {
      "image/png": "[encoded data removed]",
      "text/plain": [
       "<Figure size 1080x576 with 1 Axes>"
      ]
     },
     "metadata": {},
     "output_type": "display_data"
    }
   ],
   "source": [
    "fig, ax = plt.subplots(figsize=(15,8))\n",
    "sns.set_style('whitegrid')\n",
    "sns.barplot(x='station_name', y='No.of times visited', data = Most_visited_station_casuals ).set(title = 'MOST VISITED STATION AMONG CASUAL RIDERS')"
   ]
  },
  {
   "cell_type": "code",
   "execution_count": 76,
   "id": "d13d8820",
   "metadata": {},
   "outputs": [],
   "source": [
    "timefmt = \"%H:%M:%S\"\n",
    "Trip_data_2021['date'] = pd.to_datetime(Trip_data_2021['date'], format = timefmt, errors='coerce')"
   ]
  },
  {
   "cell_type": "code",
   "execution_count": 80,
   "id": "98f74a8c",
   "metadata": {},
   "outputs": [],
   "source": [
    "timefmt = \"%H:%M:%S\"\n",
    "Trip_data_2021['time'] = pd.to_datetime(Trip_data_2021['time'], format = timefmt, errors='coerce')"
   ]
  },
  {
   "cell_type": "code",
   "execution_count": 89,
   "id": "783eebed",
   "metadata": {},
   "outputs": [
    {
     "data": {
      "image/png": "[encoded data removed]",
      "text/plain": [
       "<Figure size 7560x360 with 7 Axes>"
      ]
     },
     "metadata": {},
     "output_type": "display_data"
    }
   ],
   "source": [
    "g = sns.FacetGrid(Trip_data_2021, col = 'day_of_week', height=5.0, aspect=3.0)\n",
    "g = g.map(sns.histplot, 'time')"
   ]
  },
  {
   "cell_type": "code",
   "execution_count": null,
   "id": "d6eadbbe",
   "metadata": {},
   "outputs": [],
   "source": []
  }
 ],
 "metadata": {
  "kernelspec": {
   "display_name": "Python 3 (ipykernel)",
   "language": "python",
   "name": "python3"
  },
  "language_info": {
   "codemirror_mode": {
    "name": "ipython",
    "version": 3
   },
   "file_extension": ".py",
   "mimetype": "text/x-python",
   "name": "python",
   "nbconvert_exporter": "python",
   "pygments_lexer": "ipython3",
   "version": "3.9.7"
  }
 },
 "nbformat": 4,
 "nbformat_minor": 5
}
